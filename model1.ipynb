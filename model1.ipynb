{
 "cells": [
  {
   "cell_type": "code",
   "execution_count": null,
   "metadata": {},
   "outputs": [],
   "source": [
    "import os\n",
    "os.chdir('put your directory here')"
   ]
  },
  {
   "cell_type": "code",
   "execution_count": 2,
   "metadata": {},
   "outputs": [],
   "source": [
    "from terrawatt.models.slx_v1 import SLXLogitModel"
   ]
  },
  {
   "cell_type": "code",
   "execution_count": null,
   "metadata": {},
   "outputs": [
    {
     "name": "stderr",
     "output_type": "stream",
     "text": [
      "2025-09-10 00:03:54,074 - INFO - SLX Logit Model initialized\n",
      "2025-09-10 00:03:54,075 - INFO - Loading data...\n",
      "2025-09-10 00:03:54,097 - INFO - X data shape: (9120, 22), Y data shape: (9120, 8)\n",
      "2025-09-10 00:03:54,100 - INFO - Merged data shape: (9120, 15)\n",
      "2025-09-10 00:03:54,100 - INFO - Binary target distribution (0s, 1s): [9091   29]\n",
      "2025-09-10 00:03:54,101 - INFO - Building spatial weights matrix...\n",
      "2025-09-10 00:03:54,714 - INFO - Spatial weights created (queen): 9120 obs, 9120.00 total weights\n",
      "2025-09-10 00:03:54,715 - INFO - Creating spatially lagged features...\n",
      "2025-09-10 00:03:54,717 - INFO - Filled 0 NaNs in 'ndbi_mean' using median.\n",
      "2025-09-10 00:03:54,718 - INFO - Filled 0 NaNs in 'ghi_mean' using median.\n",
      "2025-09-10 00:03:54,720 - INFO - Final feature matrix shape: (9120, 10)\n",
      "2025-09-10 00:03:54,722 - INFO - Creating 5 spatial folds using KMeans clustering...\n",
      "2025-09-10 00:03:54,743 - INFO - Fold sizes: [1704 1840 1846 2055 1675]\n",
      "2025-09-10 00:03:54,744 - INFO - Processing fold 1/5...\n",
      "2025-09-10 00:03:54,777 - INFO -   Fold 1: AUC=0.9812, Accuracy=0.8504\n",
      "2025-09-10 00:03:54,824 - INFO - Processing fold 2/5...\n",
      "2025-09-10 00:03:54,838 - INFO -   Fold 2: AUC=0.8245, Accuracy=0.9690\n",
      "2025-09-10 00:03:54,888 - INFO - Processing fold 3/5...\n",
      "2025-09-10 00:03:54,902 - INFO -   Fold 3: AUC=0.8446, Accuracy=0.7811\n",
      "2025-09-10 00:03:54,953 - INFO - Processing fold 4/5...\n",
      "2025-09-10 00:03:54,971 - INFO -   Fold 4: AUC=0.7991, Accuracy=0.5251\n",
      "2025-09-10 00:03:55,039 - INFO - Processing fold 5/5...\n",
      "2025-09-10 00:03:55,056 - INFO -   Fold 5: AUC=0.9372, Accuracy=0.8203\n",
      "2025-09-10 00:03:55,111 - INFO - Computing spatial autocorrelation of residuals...\n",
      "2025-09-10 00:03:55,278 - INFO - Moran's I on residuals: 0.9328 (p-value: 0.0000)\n",
      "2025-09-10 00:03:55,279 - INFO - Training final model on full dataset...\n",
      "2025-09-10 00:03:55,292 - INFO - Final model training complete.\n",
      "2025-09-10 00:03:55,302 - INFO - Evaluation Metrics:\n",
      "2025-09-10 00:03:55,303 - INFO -   overall_auc: 0.8879\n",
      "2025-09-10 00:03:55,303 - INFO -   overall_accuracy: 0.7815\n",
      "2025-09-10 00:03:55,304 - INFO -   log_loss: 0.4509\n",
      "2025-09-10 00:03:55,305 - INFO -   precision: 0.0134\n",
      "2025-09-10 00:03:55,311 - INFO -   recall: 0.9310\n",
      "2025-09-10 00:03:55,311 - INFO -   f1_score: 0.0264\n",
      "2025-09-10 00:03:55,311 - INFO -   confusion_matrix: [[7100, 1991], [2, 27]]\n",
      "2025-09-10 00:03:55,606 - INFO - Model saved to out/trained_model.pkl\n",
      "2025-09-10 00:03:55,607 - INFO - Spatial weights saved to out/spatial_weights.pkl\n",
      "2025-09-10 00:03:55,628 - INFO - Report saved to out/evaluation_report.txt\n"
     ]
    },
    {
     "data": {
      "text/plain": [
       "True"
      ]
     },
     "execution_count": 3,
     "metadata": {},
     "output_type": "execute_result"
    }
   ],
   "source": [
    "kru = SLXLogitModel(config_path='terrawatt/configs/slx_logit.yaml')\n",
    "kru.run_model()"
   ]
  }
 ],
 "metadata": {
  "kernelspec": {
   "display_name": "Python 3 (ipykernel)",
   "language": "python",
   "name": "python3"
  },
  "language_info": {
   "codemirror_mode": {
    "name": "ipython",
    "version": 3
   },
   "file_extension": ".py",
   "mimetype": "text/x-python",
   "name": "python",
   "nbconvert_exporter": "python",
   "pygments_lexer": "ipython3",
   "version": "3.12.3"
  }
 },
 "nbformat": 4,
 "nbformat_minor": 2
}
