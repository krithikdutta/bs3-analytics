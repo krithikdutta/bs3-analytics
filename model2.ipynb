{
 "cells": [
  {
   "cell_type": "code",
   "execution_count": null,
   "metadata": {},
   "outputs": [],
   "source": [
    "import os\n",
    "os.chdir('put your directory here')"
   ]
  },
  {
   "cell_type": "code",
   "execution_count": 2,
   "metadata": {},
   "outputs": [],
   "source": [
    "from terrawatt.models.logit import LogitModel"
   ]
  },
  {
   "cell_type": "code",
   "execution_count": 3,
   "metadata": {},
   "outputs": [
    {
     "name": "stderr",
     "output_type": "stream",
     "text": [
      "2025-09-11 21:08:33,769 - INFO - Logit Model initialized\n",
      "2025-09-11 21:08:33,771 - INFO - Loading data...\n",
      "2025-09-11 21:08:33,802 - INFO - X data shape: (9120, 22), Y data shape: (9120, 8)\n",
      "2025-09-11 21:08:33,806 - INFO - Merged data shape: (9120, 15)\n",
      "2025-09-11 21:08:33,808 - INFO - Binary target distribution (0s, 1s): [9091   29]\n",
      "2025-09-11 21:08:33,808 - INFO - Building spatial weights matrix...\n",
      "2025-09-11 21:08:34,390 - INFO - Spatial weights created (queen): 9120 obs, 9120.00 total weights\n",
      "2025-09-11 21:08:34,391 - INFO - Creating features...\n",
      "2025-09-11 21:08:34,393 - INFO - Filled 0 NaNs in 'ndbi_mean' using median.\n",
      "2025-09-11 21:08:34,394 - INFO - Filled 0 NaNs in 'ghi_mean' using median.\n",
      "2025-09-11 21:08:34,394 - INFO - Final feature matrix shape: (9120, 5)\n",
      "2025-09-11 21:08:34,397 - INFO - Creating 5 spatial folds using KMeans clustering...\n",
      "2025-09-11 21:08:34,416 - INFO - Fold sizes: [1704 1840 1846 2055 1675]\n",
      "2025-09-11 21:08:34,419 - INFO - Training Logit model using statsmodels...\n",
      "2025-09-11 21:08:34,419 - INFO - Processing fold 1/5...\n",
      "2025-09-11 21:08:34,428 - INFO -   Fold 1 LogLoss: 0.0045 Accuracy: 0.9994\n",
      "2025-09-11 21:08:34,471 - INFO - Processing fold 2/5...\n",
      "2025-09-11 21:08:34,480 - INFO -   Fold 2 LogLoss: 0.0079 Accuracy: 0.9989\n",
      "2025-09-11 21:08:34,523 - INFO - Processing fold 3/5...\n",
      "2025-09-11 21:08:34,532 - INFO -   Fold 3 LogLoss: 0.0139 Accuracy: 0.9984\n",
      "2025-09-11 21:08:34,577 - INFO - Processing fold 4/5...\n",
      "2025-09-11 21:08:34,585 - INFO -   Fold 4 LogLoss: 0.0402 Accuracy: 0.9927\n"
     ]
    },
    {
     "name": "stdout",
     "output_type": "stream",
     "text": [
      "Optimization terminated successfully.\n",
      "         Current function value: 0.021112\n",
      "         Iterations 11\n",
      "Optimization terminated successfully.\n",
      "         Current function value: 0.020532\n",
      "         Iterations 11\n",
      "Optimization terminated successfully.\n",
      "         Current function value: 0.019450\n",
      "         Iterations 11\n",
      "Optimization terminated successfully.\n",
      "         Current function value: 0.012220\n",
      "         Iterations 12\n"
     ]
    },
    {
     "name": "stderr",
     "output_type": "stream",
     "text": [
      "2025-09-11 21:08:34,634 - INFO - Processing fold 5/5...\n",
      "2025-09-11 21:08:34,643 - INFO -   Fold 5 LogLoss: 0.0282 Accuracy: 0.9946\n",
      "2025-09-11 21:08:34,685 - INFO - Cross-validation scores: [{'Accuracy': 0.9994131455399061, 'LogLoss': 0.004517256187454887}, {'Accuracy': 0.9989130434782608, 'LogLoss': 0.00788053748977596}, {'Accuracy': 0.9983748645720477, 'LogLoss': 0.013905471467147098}, {'Accuracy': 0.9927007299270073, 'LogLoss': 0.04023313160729304}, {'Accuracy': 0.9946268656716418, 'LogLoss': 0.02817618602702272}]\n",
      "2025-09-11 21:08:34,691 - INFO - Model training complete.\n",
      "2025-09-11 21:08:34,703 - INFO - \n",
      "Model Summary:\n",
      "                           Logit Regression Results                           \n",
      "==============================================================================\n",
      "Dep. Variable:                      y   No. Observations:                 9120\n",
      "Model:                          Logit   Df Residuals:                     9114\n",
      "Method:                           MLE   Df Model:                            5\n",
      "Date:                Thu, 11 Sep 2025   Pseudo R-squ.:                  0.1623\n",
      "Time:                        21:08:34   Log-Likelihood:                -163.96\n",
      "converged:                       True   LL-Null:                       -195.73\n",
      "Covariance Type:            nonrobust   LLR p-value:                 2.255e-12\n",
      "=====================================================================================\n",
      "                        coef    std err          z      P>|z|      [0.025      0.975]\n",
      "-------------------------------------------------------------------------------------\n",
      "const                -7.8011      1.573     -4.959      0.000     -10.884      -4.718\n",
      "ndbi_mean            -1.2459      2.418     -0.515      0.606      -5.986       3.494\n",
      "ntl_mean              7.1467      1.229      5.814      0.000       4.738       9.556\n",
      "ghi_mean              0.5234      1.104      0.474      0.636      -1.641       2.688\n",
      "road_density_norm     1.8217      2.017      0.903      0.366      -2.131       5.775\n",
      "poi_norm              4.1896      1.537      2.726      0.006       1.177       7.202\n",
      "=====================================================================================\n",
      "2025-09-11 21:08:34,706 - INFO - Model coefficients saved to out_logit/model_coefficients.csv\n",
      "2025-09-11 21:08:34,731 - INFO - Predictions saved to out_logit/predictions.csv\n",
      "2025-09-11 21:08:34,732 - INFO - Performing diagnostic tests...\n"
     ]
    },
    {
     "name": "stdout",
     "output_type": "stream",
     "text": [
      "Optimization terminated successfully.\n",
      "         Current function value: 0.015829\n",
      "         Iterations 11\n",
      "Optimization terminated successfully.\n",
      "         Current function value: 0.017978\n",
      "         Iterations 11\n"
     ]
    },
    {
     "name": "stderr",
     "output_type": "stream",
     "text": [
      "2025-09-11 21:08:36,168 - INFO - Observed Moran's I: 0.001963752609157622\n",
      "2025-09-11 21:08:36,169 - INFO - Expected I under null: -0.0001096611470555982\n",
      "2025-09-11 21:08:36,169 - INFO - p-value: 0.1983\n",
      "2025-09-11 21:08:36,169 - INFO - Result: No significant spatial autocorrelation (Fail to reject H0).\n",
      "2025-09-11 21:08:36,485 - INFO - Moran's I distribution plot saved to out_logit/diagnostic_plots/moran_distribution.png\n",
      "2025-09-11 21:08:36,492 - INFO - Classification report saved to out_logit/evaluation_report.csv\n"
     ]
    },
    {
     "data": {
      "text/plain": [
       "True"
      ]
     },
     "execution_count": 3,
     "metadata": {},
     "output_type": "execute_result"
    }
   ],
   "source": [
    "logit = LogitModel(config_path='terrawatt/configs/logit.yaml')\n",
    "logit.run_model()"
   ]
  }
 ],
 "metadata": {
  "kernelspec": {
   "display_name": "Python 3 (ipykernel)",
   "language": "python",
   "name": "python3"
  },
  "language_info": {
   "codemirror_mode": {
    "name": "ipython",
    "version": 3
   },
   "file_extension": ".py",
   "mimetype": "text/x-python",
   "name": "python",
   "nbconvert_exporter": "python",
   "pygments_lexer": "ipython3",
   "version": "3.12.3"
  }
 },
 "nbformat": 4,
 "nbformat_minor": 2
}
