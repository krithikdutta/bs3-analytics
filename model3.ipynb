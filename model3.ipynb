{
 "cells": [
  {
   "cell_type": "code",
   "execution_count": 7,
   "metadata": {},
   "outputs": [],
   "source": [
    "import os\n",
    "os.chdir('/home/kru/Documents/Study/ePGD-ABA/CREDA/Capstone/bs3-analytics')"
   ]
  },
  {
   "cell_type": "code",
   "execution_count": 8,
   "metadata": {},
   "outputs": [],
   "source": [
    "from terrawatt.models.probit import ProbitModel"
   ]
  },
  {
   "cell_type": "code",
   "execution_count": 9,
   "metadata": {},
   "outputs": [
    {
     "name": "stderr",
     "output_type": "stream",
     "text": [
      "2025-09-12 00:15:04,597 - INFO - Probit Model initialized\n",
      "2025-09-12 00:15:04,604 - INFO - Loading data...\n",
      "2025-09-12 00:15:04,633 - INFO - X data shape: (9120, 22), Y data shape: (9120, 8)\n",
      "2025-09-12 00:15:04,636 - INFO - Merged data shape: (9120, 15)\n",
      "2025-09-12 00:15:04,637 - INFO - Binary target distribution (0s, 1s): [9091   29]\n",
      "2025-09-12 00:15:04,637 - INFO - Building spatial weights matrix...\n",
      "2025-09-12 00:15:05,232 - INFO - Spatial weights created (queen): 9120 obs, 9120.00 total weights\n",
      "2025-09-12 00:15:05,233 - INFO - Creating features...\n",
      "2025-09-12 00:15:05,235 - INFO - Filled 0 NaNs in 'ndbi_mean' using median.\n",
      "2025-09-12 00:15:05,236 - INFO - Filled 0 NaNs in 'ghi_mean' using median.\n",
      "2025-09-12 00:15:05,236 - INFO - Final feature matrix shape: (9120, 5)\n",
      "2025-09-12 00:15:05,239 - INFO - Creating 5 spatial folds using KMeans clustering...\n",
      "2025-09-12 00:15:05,243 - INFO - Fold sizes: [1704 1840 1846 2055 1675]\n",
      "2025-09-12 00:15:05,245 - INFO - Training Logit model using statsmodels...\n",
      "2025-09-12 00:15:05,245 - INFO - Processing fold 1/5...\n",
      "2025-09-12 00:15:05,258 - INFO -   Fold 1 LogLoss: 0.0044 Accuracy: 0.9994\n",
      "2025-09-12 00:15:05,299 - INFO - Processing fold 2/5...\n",
      "2025-09-12 00:15:05,309 - INFO -   Fold 2 LogLoss: 0.0079 Accuracy: 0.9989\n",
      "2025-09-12 00:15:05,354 - INFO - Processing fold 3/5...\n",
      "2025-09-12 00:15:05,364 - INFO -   Fold 3 LogLoss: 0.0132 Accuracy: 0.9984\n"
     ]
    },
    {
     "name": "stdout",
     "output_type": "stream",
     "text": [
      "Optimization terminated successfully.\n",
      "         Current function value: 0.020926\n",
      "         Iterations 10\n",
      "Optimization terminated successfully.\n",
      "         Current function value: 0.020320\n",
      "         Iterations 11\n",
      "Optimization terminated successfully.\n",
      "         Current function value: 0.019315\n",
      "         Iterations 10\n"
     ]
    },
    {
     "name": "stderr",
     "output_type": "stream",
     "text": [
      "2025-09-12 00:15:05,468 - INFO - Processing fold 4/5...\n",
      "2025-09-12 00:15:05,479 - INFO -   Fold 4 LogLoss: 0.0386 Accuracy: 0.9932\n",
      "2025-09-12 00:15:05,527 - INFO - Processing fold 5/5...\n",
      "2025-09-12 00:15:05,538 - INFO -   Fold 5 LogLoss: 0.0277 Accuracy: 0.9946\n",
      "2025-09-12 00:15:05,579 - INFO - Cross-validation scores: [{'Accuracy': 0.9994131455399061, 'LogLoss': 0.004426486735103361}, {'Accuracy': 0.9989130434782608, 'LogLoss': 0.00790195948506161}, {'Accuracy': 0.9983748645720477, 'LogLoss': 0.013182835742861878}, {'Accuracy': 0.9931873479318735, 'LogLoss': 0.03857694096651996}, {'Accuracy': 0.9946268656716418, 'LogLoss': 0.027746946081570262}]\n",
      "2025-09-12 00:15:05,588 - INFO - Model training complete.\n",
      "2025-09-12 00:15:05,603 - INFO - \n",
      "Model Summary:\n",
      "                          Probit Regression Results                           \n",
      "==============================================================================\n",
      "Dep. Variable:                      y   No. Observations:                 9120\n",
      "Model:                         Probit   Df Residuals:                     9114\n",
      "Method:                           MLE   Df Model:                            5\n",
      "Date:                Fri, 12 Sep 2025   Pseudo R-squ.:                  0.1701\n",
      "Time:                        00:15:05   Log-Likelihood:                -162.44\n",
      "converged:                       True   LL-Null:                       -195.73\n",
      "Covariance Type:            nonrobust   LLR p-value:                 5.288e-13\n",
      "=====================================================================================\n",
      "                        coef    std err          z      P>|z|      [0.025      0.975]\n",
      "-------------------------------------------------------------------------------------\n",
      "const                -3.5145      0.572     -6.148      0.000      -4.635      -2.394\n",
      "ndbi_mean            -0.5095      0.866     -0.588      0.556      -2.207       1.188\n",
      "ntl_mean              2.6834      0.495      5.420      0.000       1.713       3.654\n",
      "ghi_mean              0.2878      0.421      0.684      0.494      -0.537       1.113\n",
      "road_density_norm     0.6593      0.808      0.816      0.415      -0.924       2.243\n",
      "poi_norm              1.7359      0.753      2.306      0.021       0.261       3.211\n",
      "=====================================================================================\n",
      "2025-09-12 00:15:05,606 - INFO - Model coefficients saved to out/model_coefficients.csv\n",
      "2025-09-12 00:15:05,631 - INFO - Predictions saved to out/predictions.csv\n",
      "2025-09-12 00:15:05,632 - INFO - Performing diagnostic tests...\n"
     ]
    },
    {
     "name": "stdout",
     "output_type": "stream",
     "text": [
      "Optimization terminated successfully.\n",
      "         Current function value: 0.012129\n",
      "         Iterations 11\n",
      "Optimization terminated successfully.\n",
      "         Current function value: 0.015723\n",
      "         Iterations 10\n",
      "Optimization terminated successfully.\n",
      "         Current function value: 0.017812\n",
      "         Iterations 10\n"
     ]
    },
    {
     "name": "stderr",
     "output_type": "stream",
     "text": [
      "2025-09-12 00:15:07,053 - INFO - Observed Moran's I: 0.0008020419996914003\n",
      "2025-09-12 00:15:07,054 - INFO - Expected I under null: -0.0001096611470555982\n",
      "2025-09-12 00:15:07,054 - INFO - p-value: 0.2358\n",
      "2025-09-12 00:15:07,054 - INFO - Result: No significant spatial autocorrelation (Fail to reject H0).\n",
      "2025-09-12 00:15:07,117 - INFO - Moran's I distribution plot saved to out/diagnostic_plots/moran_distribution.png\n",
      "2025-09-12 00:15:07,124 - INFO - Classification report saved to out/evaluation_report.csv\n"
     ]
    },
    {
     "data": {
      "text/plain": [
       "True"
      ]
     },
     "execution_count": 9,
     "metadata": {},
     "output_type": "execute_result"
    }
   ],
   "source": [
    "logit = ProbitModel(config_path='terrawatt/configs/probit.yaml')\n",
    "logit.run_model()"
   ]
  }
 ],
 "metadata": {
  "kernelspec": {
   "display_name": "Python 3 (ipykernel)",
   "language": "python",
   "name": "python3"
  },
  "language_info": {
   "codemirror_mode": {
    "name": "ipython",
    "version": 3
   },
   "file_extension": ".py",
   "mimetype": "text/x-python",
   "name": "python",
   "nbconvert_exporter": "python",
   "pygments_lexer": "ipython3",
   "version": "3.12.3"
  }
 },
 "nbformat": 4,
 "nbformat_minor": 2
}
