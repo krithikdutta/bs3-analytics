{
 "cells": [
  {
   "cell_type": "code",
   "execution_count": 1,
   "metadata": {},
   "outputs": [],
   "source": [
    "from terrawatt.eda.jca import analyze_joins_from_csv"
   ]
  },
  {
   "cell_type": "code",
   "execution_count": 2,
   "metadata": {},
   "outputs": [
    {
     "name": "stdout",
     "output_type": "stream",
     "text": [
      "Successfully read 9120 records from 'data/BLR_Y.csv'.\n",
      "Analyzing data from column: 'num_bss'\n",
      "Number of events (data=1): 30\n",
      "\n",
      "Successfully created a 'Queen' contiguity spatial weights matrix from geometries.\n",
      "Sample - Neighbors for polygon 0: [8, 1, 9]\n",
      "\n",
      "--- Join Count Statistics Results ---\n",
      "Observed Black-Black (1-1 joins): 1.0\n",
      "Expected: Neighbor             W           B\n",
      "Focal                             \n",
      "W         35409.377094  111.622906\n",
      "B           119.622906    0.377094\n",
      "Observed: Neighbor        W      B\n",
      "Focal                   \n",
      "W         35410.0  111.0\n",
      "B           119.0    1.0\n",
      "-----------------------------------\n",
      "Chi-Square Test for Join Counts:\n",
      "  chi2: 0.0403\n",
      "  P-value: 0.8409\n",
      "  Simulated chi2 P-value: 0.2810\n",
      "-----------------------------------\n",
      "p-value based on permutations (one-sided) null: spatial randomness alternative: the observed bb is greater than under randomness\n",
      "p_sim_bb: 0.281\n"
     ]
    }
   ],
   "source": [
    "csv_file_path = 'data/BLR_Y.csv'\n",
    "data_column_name = 'num_bss'\n",
    "\n",
    "# Define the four column names for the bounding box coordinates\n",
    "bbox_column_names = ['left', 'bottom', 'right', 'top']\n",
    "\n",
    "analyze_joins_from_csv(csv_file_path, data_column_name, bbox_column_names)\n"
   ]
  }
 ],
 "metadata": {
  "kernelspec": {
   "display_name": "Python 3 (ipykernel)",
   "language": "python",
   "name": "python3"
  },
  "language_info": {
   "codemirror_mode": {
    "name": "ipython",
    "version": 3
   },
   "file_extension": ".py",
   "mimetype": "text/x-python",
   "name": "python",
   "nbconvert_exporter": "python",
   "pygments_lexer": "ipython3",
   "version": "3.12.3"
  }
 },
 "nbformat": 4,
 "nbformat_minor": 2
}
