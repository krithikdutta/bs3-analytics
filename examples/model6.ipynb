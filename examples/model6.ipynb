{
 "cells": [
  {
   "cell_type": "code",
   "execution_count": 1,
   "metadata": {},
   "outputs": [],
   "source": [
    "from terrawatt.models.srf import SpatialRandomForestModel"
   ]
  },
  {
   "cell_type": "code",
   "execution_count": 2,
   "metadata": {},
   "outputs": [
    {
     "name": "stderr",
     "output_type": "stream",
     "text": [
      "2025-09-16 08:43:04 - terrawatt.models.terrawatt.SpatialRandomForestModel - INFO - --- Logging initialized ---\n",
      "2025-09-16 08:43:04 - terrawatt.models.terrawatt.SpatialRandomForestModel - INFO - Model: SRF_v1 initialized\n"
     ]
    }
   ],
   "source": [
    "srf = SpatialRandomForestModel(config_path='terrawatt/configs/srf.yaml')\n",
    "# slx.train()"
   ]
  },
  {
   "cell_type": "code",
   "execution_count": 3,
   "metadata": {},
   "outputs": [
    {
     "name": "stderr",
     "output_type": "stream",
     "text": [
      "2025-09-16 08:43:06 - terrawatt.models.terrawatt.SpatialRandomForestModel - INFO - Loading data from X: data/BLR_X_normalized.csv, y: data/BLR_Y.csv\n",
      "2025-09-16 08:43:06 - terrawatt.models.terrawatt.SpatialRandomForestModel - INFO - Loaded X: (9122, 25), Y: (9120, 8)\n",
      "2025-09-16 08:43:06 - terrawatt.models.terrawatt.SpatialRandomForestModel - INFO - Merged dataset shape: (9120, 15)\n",
      "2025-09-16 08:43:06 - terrawatt.models.terrawatt.SpatialRandomForestModel - INFO - Creating features...\n",
      "2025-09-16 08:43:06 - terrawatt.models.terrawatt.SpatialRandomForestModel - INFO - Binary target distribution - 0s: 9091, 1s: 29\n",
      "2025-09-16 08:43:06 - terrawatt.models.terrawatt.SpatialRandomForestModel - WARNING - Severe class imbalance detected. Minority class ratio: 0.003\n",
      "2025-09-16 08:43:06 - terrawatt.models.terrawatt.SpatialRandomForestModel - INFO - Building spatial weights matrix...\n",
      "2025-09-16 08:43:06 - terrawatt.models.terrawatt.SpatialRandomForestModel - INFO - Creating spatial weights using 'queen' contiguity...\n",
      "2025-09-16 08:43:06 - terrawatt.models.terrawatt.SpatialRandomForestModel - INFO - Creating feature matrix...\n",
      "2025-09-16 08:43:06 - terrawatt.models.terrawatt.SpatialRandomForestModel - INFO - Applying imputation using method: median\n",
      "2025-09-16 08:43:06 - terrawatt.models.terrawatt.SpatialRandomForestModel - INFO - Imputing 6 missing values in column 'ndbi_mean'\n",
      "2025-09-16 08:43:06 - terrawatt.models.terrawatt.SpatialRandomForestModel - INFO - Imputing 43 missing values in column 'ghi_mean'\n",
      "2025-09-16 08:43:06 - terrawatt.models.terrawatt.SpatialRandomForestModel - INFO - Creating spatially lagged features...\n",
      "2025-09-16 08:43:06 - terrawatt.models.terrawatt.SpatialRandomForestModel - INFO - Final feature matrix shape: (9120, 10)\n",
      "2025-09-16 08:43:06 - terrawatt.models.terrawatt.SpatialRandomForestModel - INFO - Feature columns: ['ndbi_mean', 'ntl_mean', 'ghi_mean', 'road_density_norm', 'poi_norm']\n"
     ]
    }
   ],
   "source": [
    "srf._load_data()"
   ]
  },
  {
   "cell_type": "code",
   "execution_count": 4,
   "metadata": {},
   "outputs": [
    {
     "name": "stderr",
     "output_type": "stream",
     "text": [
      "2025-09-16 08:43:09 - terrawatt.models.terrawatt.SpatialRandomForestModel - INFO - Loading test data from X: data/RPR_X_normalized.csv\n",
      "2025-09-16 08:43:09 - terrawatt.models.terrawatt.SpatialRandomForestModel - INFO - Loading validation data from X: data/DEL_X_normalized.csv, y: data/DEL_Y.csv\n",
      "2025-09-16 08:43:09 - terrawatt.models.terrawatt.SpatialRandomForestModel - INFO - Loaded test X: (11957, 26)\n",
      "2025-09-16 08:43:09 - terrawatt.models.terrawatt.SpatialRandomForestModel - INFO - Creating features...\n",
      "2025-09-16 08:43:09 - terrawatt.models.terrawatt.SpatialRandomForestModel - INFO - No target variable found; proceeding without target.\n",
      "2025-09-16 08:43:09 - terrawatt.models.terrawatt.SpatialRandomForestModel - INFO - Building spatial weights matrix...\n",
      "2025-09-16 08:43:09 - terrawatt.models.terrawatt.SpatialRandomForestModel - INFO - Creating spatial weights using 'queen' contiguity...\n",
      "2025-09-16 08:43:09 - terrawatt.models.terrawatt.SpatialRandomForestModel - INFO - Creating feature matrix...\n",
      "2025-09-16 08:43:09 - terrawatt.models.terrawatt.SpatialRandomForestModel - INFO - Applying imputation using method: median\n",
      "2025-09-16 08:43:09 - terrawatt.models.terrawatt.SpatialRandomForestModel - INFO - Imputing 4 missing values in column 'ndbi_mean'\n",
      "2025-09-16 08:43:09 - terrawatt.models.terrawatt.SpatialRandomForestModel - INFO - Imputing 44 missing values in column 'ghi_mean'\n",
      "2025-09-16 08:43:09 - terrawatt.models.terrawatt.SpatialRandomForestModel - INFO - Creating spatially lagged features...\n",
      "2025-09-16 08:43:09 - terrawatt.models.terrawatt.SpatialRandomForestModel - INFO - Final feature matrix shape: (11957, 10)\n",
      "2025-09-16 08:43:09 - terrawatt.models.terrawatt.SpatialRandomForestModel - INFO - Feature columns: ['ndbi_mean', 'ntl_mean', 'ghi_mean', 'road_density_norm', 'poi_norm']\n",
      "2025-09-16 08:43:09 - terrawatt.models.terrawatt.SpatialRandomForestModel - INFO - Loaded validation X: (6191, 25), Y: (6191, 8)\n",
      "2025-09-16 08:43:09 - terrawatt.models.terrawatt.SpatialRandomForestModel - INFO - Merged validation dataset shape: (6191, 15)\n",
      "2025-09-16 08:43:09 - terrawatt.models.terrawatt.SpatialRandomForestModel - INFO - Creating features...\n",
      "2025-09-16 08:43:09 - terrawatt.models.terrawatt.SpatialRandomForestModel - INFO - Binary target distribution - 0s: 6164, 1s: 27\n",
      "2025-09-16 08:43:09 - terrawatt.models.terrawatt.SpatialRandomForestModel - WARNING - Severe class imbalance detected. Minority class ratio: 0.004\n",
      "2025-09-16 08:43:09 - terrawatt.models.terrawatt.SpatialRandomForestModel - INFO - Building spatial weights matrix...\n",
      "2025-09-16 08:43:10 - terrawatt.models.terrawatt.SpatialRandomForestModel - INFO - Creating spatial weights using 'queen' contiguity...\n",
      "2025-09-16 08:43:10 - terrawatt.models.terrawatt.SpatialRandomForestModel - INFO - Creating feature matrix...\n",
      "2025-09-16 08:43:10 - terrawatt.models.terrawatt.SpatialRandomForestModel - INFO - Applying imputation using method: median\n",
      "2025-09-16 08:43:10 - terrawatt.models.terrawatt.SpatialRandomForestModel - INFO - Creating spatially lagged features...\n",
      "2025-09-16 08:43:10 - terrawatt.models.terrawatt.SpatialRandomForestModel - INFO - Final feature matrix shape: (6191, 10)\n",
      "2025-09-16 08:43:10 - terrawatt.models.terrawatt.SpatialRandomForestModel - INFO - Feature columns: ['ndbi_mean', 'ntl_mean', 'ghi_mean', 'road_density_norm', 'poi_norm']\n"
     ]
    }
   ],
   "source": [
    "srf._load_test_validation_data()"
   ]
  },
  {
   "cell_type": "code",
   "execution_count": 5,
   "metadata": {},
   "outputs": [
    {
     "name": "stderr",
     "output_type": "stream",
     "text": [
      "2025-09-16 08:43:21 - terrawatt.models.terrawatt.SpatialRandomForestModel - INFO - Added MinMaxScaler to pipeline\n",
      "2025-09-16 08:43:21 - terrawatt.models.terrawatt.SpatialRandomForestModel - INFO - Added RandomForestClassifier with params: {'n_estimators': 100, 'max_depth': None, 'min_samples_split': 2, 'min_samples_leaf': 1, 'random_state': 42, 'class_weight': 'balanced', 'n_jobs': -1}\n",
      "2025-09-16 08:43:21 - terrawatt.models.terrawatt.SpatialRandomForestModel - INFO - Creating 5 spatial folds using KMeans clustering...\n",
      "2025-09-16 08:43:21 - terrawatt.models.terrawatt.SpatialRandomForestModel - INFO - Fold distribution: {0: np.int64(1704), 1: np.int64(1840), 2: np.int64(1846), 3: np.int64(2055), 4: np.int64(1675)}\n",
      "2025-09-16 08:43:21 - terrawatt.models.terrawatt.SpatialRandomForestModel - INFO - Processing fold 1/5...\n",
      "2025-09-16 08:43:21 - terrawatt.models.terrawatt.SpatialRandomForestModel - INFO -   Train size: 7416, Test size: 1704\n",
      "2025-09-16 08:43:21 - terrawatt.models.terrawatt.SpatialRandomForestModel - INFO -   Fold 1: AUC=0.9301\n",
      "2025-09-16 08:43:21 - terrawatt.models.terrawatt.SpatialRandomForestModel - INFO - Processing fold 2/5...\n",
      "2025-09-16 08:43:21 - terrawatt.models.terrawatt.SpatialRandomForestModel - INFO -   Train size: 7280, Test size: 1840\n",
      "2025-09-16 08:43:21 - terrawatt.models.terrawatt.SpatialRandomForestModel - INFO -   Fold 2: AUC=0.4970\n",
      "2025-09-16 08:43:21 - terrawatt.models.terrawatt.SpatialRandomForestModel - INFO - Processing fold 3/5...\n",
      "2025-09-16 08:43:21 - terrawatt.models.terrawatt.SpatialRandomForestModel - INFO -   Train size: 7274, Test size: 1846\n",
      "2025-09-16 08:43:21 - terrawatt.models.terrawatt.SpatialRandomForestModel - INFO -   Fold 3: AUC=0.6164\n",
      "2025-09-16 08:43:21 - terrawatt.models.terrawatt.SpatialRandomForestModel - INFO - Processing fold 4/5...\n",
      "2025-09-16 08:43:21 - terrawatt.models.terrawatt.SpatialRandomForestModel - INFO -   Train size: 7065, Test size: 2055\n",
      "2025-09-16 08:43:22 - terrawatt.models.terrawatt.SpatialRandomForestModel - INFO -   Fold 4: AUC=0.6587\n",
      "2025-09-16 08:43:22 - terrawatt.models.terrawatt.SpatialRandomForestModel - INFO - Processing fold 5/5...\n",
      "2025-09-16 08:43:22 - terrawatt.models.terrawatt.SpatialRandomForestModel - INFO -   Train size: 7445, Test size: 1675\n",
      "2025-09-16 08:43:22 - terrawatt.models.terrawatt.SpatialRandomForestModel - INFO -   Fold 5: AUC=0.5044\n",
      "2025-09-16 08:43:22 - terrawatt.models.terrawatt.SpatialRandomForestModel - INFO - Moran's I on residuals: -0.0008 (p-value: 0.8963)\n",
      "2025-09-16 08:43:22 - terrawatt.models.terrawatt.SpatialRandomForestModel - INFO - Training final pipeline on full dataset...\n",
      "2025-09-16 08:43:22 - terrawatt.models.terrawatt.SpatialRandomForestModel - INFO - Final pipeline training complete.\n"
     ]
    }
   ],
   "source": [
    "srf._train()"
   ]
  },
  {
   "cell_type": "code",
   "execution_count": 6,
   "metadata": {},
   "outputs": [
    {
     "name": "stderr",
     "output_type": "stream",
     "text": [
      "2025-09-16 08:43:25 - terrawatt.models.terrawatt.SpatialRandomForestModel - INFO - Making predictions...\n",
      "2025-09-16 08:43:25 - terrawatt.models.terrawatt.SpatialRandomForestModel - INFO - Predictions saved to out/predictions.csv\n"
     ]
    },
    {
     "data": {
      "text/html": [
       "<div>\n",
       "<style scoped>\n",
       "    .dataframe tbody tr th:only-of-type {\n",
       "        vertical-align: middle;\n",
       "    }\n",
       "\n",
       "    .dataframe tbody tr th {\n",
       "        vertical-align: top;\n",
       "    }\n",
       "\n",
       "    .dataframe thead th {\n",
       "        text-align: right;\n",
       "    }\n",
       "</style>\n",
       "<table border=\"1\" class=\"dataframe\">\n",
       "  <thead>\n",
       "    <tr style=\"text-align: right;\">\n",
       "      <th></th>\n",
       "      <th>id</th>\n",
       "      <th>probability</th>\n",
       "      <th>prediction</th>\n",
       "      <th>confidence</th>\n",
       "    </tr>\n",
       "  </thead>\n",
       "  <tbody>\n",
       "    <tr>\n",
       "      <th>0</th>\n",
       "      <td>72</td>\n",
       "      <td>0.0</td>\n",
       "      <td>0</td>\n",
       "      <td>Low</td>\n",
       "    </tr>\n",
       "    <tr>\n",
       "      <th>1</th>\n",
       "      <td>73</td>\n",
       "      <td>0.0</td>\n",
       "      <td>0</td>\n",
       "      <td>Low</td>\n",
       "    </tr>\n",
       "    <tr>\n",
       "      <th>2</th>\n",
       "      <td>74</td>\n",
       "      <td>0.0</td>\n",
       "      <td>0</td>\n",
       "      <td>Low</td>\n",
       "    </tr>\n",
       "    <tr>\n",
       "      <th>3</th>\n",
       "      <td>75</td>\n",
       "      <td>0.0</td>\n",
       "      <td>0</td>\n",
       "      <td>Low</td>\n",
       "    </tr>\n",
       "    <tr>\n",
       "      <th>4</th>\n",
       "      <td>76</td>\n",
       "      <td>0.0</td>\n",
       "      <td>0</td>\n",
       "      <td>Low</td>\n",
       "    </tr>\n",
       "    <tr>\n",
       "      <th>...</th>\n",
       "      <td>...</td>\n",
       "      <td>...</td>\n",
       "      <td>...</td>\n",
       "      <td>...</td>\n",
       "    </tr>\n",
       "    <tr>\n",
       "      <th>11952</th>\n",
       "      <td>20576</td>\n",
       "      <td>0.0</td>\n",
       "      <td>0</td>\n",
       "      <td>Low</td>\n",
       "    </tr>\n",
       "    <tr>\n",
       "      <th>11953</th>\n",
       "      <td>20577</td>\n",
       "      <td>0.0</td>\n",
       "      <td>0</td>\n",
       "      <td>Low</td>\n",
       "    </tr>\n",
       "    <tr>\n",
       "      <th>11954</th>\n",
       "      <td>20726</td>\n",
       "      <td>0.0</td>\n",
       "      <td>0</td>\n",
       "      <td>Low</td>\n",
       "    </tr>\n",
       "    <tr>\n",
       "      <th>11955</th>\n",
       "      <td>20727</td>\n",
       "      <td>0.0</td>\n",
       "      <td>0</td>\n",
       "      <td>Low</td>\n",
       "    </tr>\n",
       "    <tr>\n",
       "      <th>11956</th>\n",
       "      <td>20728</td>\n",
       "      <td>0.0</td>\n",
       "      <td>0</td>\n",
       "      <td>Low</td>\n",
       "    </tr>\n",
       "  </tbody>\n",
       "</table>\n",
       "<p>11957 rows × 4 columns</p>\n",
       "</div>"
      ],
      "text/plain": [
       "          id  probability  prediction confidence\n",
       "0         72          0.0           0        Low\n",
       "1         73          0.0           0        Low\n",
       "2         74          0.0           0        Low\n",
       "3         75          0.0           0        Low\n",
       "4         76          0.0           0        Low\n",
       "...      ...          ...         ...        ...\n",
       "11952  20576          0.0           0        Low\n",
       "11953  20577          0.0           0        Low\n",
       "11954  20726          0.0           0        Low\n",
       "11955  20727          0.0           0        Low\n",
       "11956  20728          0.0           0        Low\n",
       "\n",
       "[11957 rows x 4 columns]"
      ]
     },
     "execution_count": 6,
     "metadata": {},
     "output_type": "execute_result"
    }
   ],
   "source": [
    "srf.predict()"
   ]
  },
  {
   "cell_type": "code",
   "execution_count": null,
   "metadata": {},
   "outputs": [],
   "source": [
    "srf._evaluate()\n",
    "srf._generate_report()"
   ]
  },
  {
   "cell_type": "code",
   "execution_count": null,
   "metadata": {},
   "outputs": [],
   "source": [
    "srf.get_feature_importance()"
   ]
  }
 ],
 "metadata": {
  "kernelspec": {
   "display_name": "Python 3 (ipykernel)",
   "language": "python",
   "name": "python3"
  },
  "language_info": {
   "codemirror_mode": {
    "name": "ipython",
    "version": 3
   },
   "file_extension": ".py",
   "mimetype": "text/x-python",
   "name": "python",
   "nbconvert_exporter": "python",
   "pygments_lexer": "ipython3",
   "version": "3.12.3"
  }
 },
 "nbformat": 4,
 "nbformat_minor": 2
}
