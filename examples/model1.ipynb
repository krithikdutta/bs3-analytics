{
 "cells": [
  {
   "cell_type": "code",
   "execution_count": null,
   "metadata": {},
   "outputs": [],
   "source": [
    "import os\n",
    "os.chdir('put your directory here')"
   ]
  },
  {
   "cell_type": "code",
   "execution_count": 2,
   "metadata": {},
   "outputs": [],
   "source": [
    "from terrawatt.models.slx import SLXLogitModel"
   ]
  },
  {
   "cell_type": "code",
   "execution_count": 3,
   "metadata": {},
   "outputs": [
    {
     "name": "stderr",
     "output_type": "stream",
     "text": [
      "2025-09-10 01:57:48,668 - INFO - SLX Logit Model initialized\n",
      "2025-09-10 01:57:48,668 - INFO - Loading data...\n",
      "2025-09-10 01:57:48,689 - INFO - X data shape: (9120, 22), Y data shape: (9120, 8)\n",
      "2025-09-10 01:57:48,693 - INFO - Merged data shape: (9120, 15)\n",
      "2025-09-10 01:57:48,693 - INFO - Binary target distribution (0s, 1s): [9091   29]\n",
      "2025-09-10 01:57:48,694 - INFO - Building spatial weights matrix...\n",
      "2025-09-10 01:57:49,324 - INFO - Spatial weights created (queen): 9120 obs, 9120.00 total weights\n",
      "2025-09-10 01:57:49,325 - INFO - Creating spatially lagged features...\n",
      "2025-09-10 01:57:49,327 - INFO - Filled 0 NaNs in 'ndbi_mean' using median.\n",
      "2025-09-10 01:57:49,328 - INFO - Filled 0 NaNs in 'ghi_mean' using median.\n",
      "2025-09-10 01:57:49,330 - INFO - Final feature matrix shape: (9120, 10)\n",
      "2025-09-10 01:57:49,332 - INFO - Creating 5 spatial folds using KMeans clustering...\n",
      "2025-09-10 01:57:49,349 - INFO - Fold sizes: [1704 1840 1846 2055 1675]\n",
      "2025-09-10 01:57:49,350 - INFO - Processing fold 1/5...\n",
      "2025-09-10 01:57:49,372 - INFO -   Fold 1: AUC=0.9812, Accuracy=0.8504\n",
      "2025-09-10 01:57:49,419 - INFO - Processing fold 2/5...\n",
      "2025-09-10 01:57:49,433 - INFO -   Fold 2: AUC=0.8245, Accuracy=0.9690\n",
      "2025-09-10 01:57:49,485 - INFO - Processing fold 3/5...\n",
      "2025-09-10 01:57:49,500 - INFO -   Fold 3: AUC=0.8446, Accuracy=0.7811\n",
      "2025-09-10 01:57:49,555 - INFO - Processing fold 4/5...\n",
      "2025-09-10 01:57:49,572 - INFO -   Fold 4: AUC=0.7991, Accuracy=0.5251\n",
      "2025-09-10 01:57:49,631 - INFO - Processing fold 5/5...\n",
      "2025-09-10 01:57:49,647 - INFO -   Fold 5: AUC=0.9372, Accuracy=0.8203\n",
      "2025-09-10 01:57:49,703 - INFO - Computing spatial autocorrelation of residuals...\n",
      "2025-09-10 01:57:49,878 - INFO - Moran's I on residuals: 0.9328 (p-value: 0.0000)\n",
      "2025-09-10 01:57:49,878 - INFO - Training final model on full dataset...\n",
      "2025-09-10 01:57:49,892 - INFO - Final model training complete.\n",
      "2025-09-10 01:57:49,904 - INFO - Evaluation Metrics:\n",
      "2025-09-10 01:57:49,907 - INFO -   overall_auc: 0.8879\n",
      "2025-09-10 01:57:49,908 - INFO -   overall_accuracy: 0.7815\n",
      "2025-09-10 01:57:49,909 - INFO -   log_loss: 0.4509\n",
      "2025-09-10 01:57:49,909 - INFO -   precision: 0.0134\n",
      "2025-09-10 01:57:49,911 - INFO -   recall: 0.9310\n",
      "2025-09-10 01:57:49,913 - INFO -   f1_score: 0.0264\n",
      "2025-09-10 01:57:49,913 - INFO -   confusion_matrix: [[7100, 1991], [2, 27]]\n",
      "2025-09-10 01:57:50,202 - INFO - Model saved to out/trained_model.pkl\n",
      "2025-09-10 01:57:50,203 - INFO - Spatial weights saved to out/spatial_weights.pkl\n",
      "2025-09-10 01:57:50,223 - INFO - Report saved to out/evaluation_report.txt\n",
      "2025-09-10 01:57:50,260 - INFO - Prediction X data shape: (11957, 23)\n",
      "2025-09-10 01:57:50,260 - INFO - Building spatial weights matrix for prediction data...\n",
      "2025-09-10 01:57:51,160 - INFO - Spatial weights created (queen): 11957 obs, 11957.00 total weights\n",
      "2025-09-10 01:57:51,161 - INFO - Creating spatially lagged features for prediction data...\n",
      "2025-09-10 01:57:51,163 - INFO - Filled 0 NaNs in 'ndbi_mean' using median.\n",
      "2025-09-10 01:57:51,164 - INFO - Filled 0 NaNs in 'ghi_mean' using median.\n",
      "2025-09-10 01:57:51,166 - INFO - Final feature matrix shape: (11957, 10)\n",
      "2025-09-10 01:57:51,166 - INFO - Making predictions...\n",
      "2025-09-10 01:57:51,187 - INFO - \n",
      "Prediction Summary:\n",
      "2025-09-10 01:57:51,187 - INFO -   Total predictions: 11957\n",
      "2025-09-10 01:57:51,188 - INFO -   Predicted positive: 17 (0.1%)\n",
      "2025-09-10 01:57:51,189 - INFO -   Mean probability: 0.003\n",
      "2025-09-10 01:57:51,189 - INFO -   Probability range: 0.000 - 0.741\n",
      "2025-09-10 01:57:51,190 - INFO - \n",
      "Confidence distribution:\n",
      "2025-09-10 01:57:51,191 - INFO - confidence\n",
      "Low       11922\n",
      "Medium       31\n",
      "High          4\n",
      "2025-09-10 01:57:51,191 - INFO - \n",
      "Predictions saved to: out/predictions.csv\n"
     ]
    },
    {
     "data": {
      "text/plain": [
       "True"
      ]
     },
     "execution_count": 3,
     "metadata": {},
     "output_type": "execute_result"
    }
   ],
   "source": [
    "slx = SLXLogitModel(config_path='terrawatt/configs/slx_logit.yaml')\n",
    "slx.run_model()"
   ]
  }
 ],
 "metadata": {
  "kernelspec": {
   "display_name": "Python 3 (ipykernel)",
   "language": "python",
   "name": "python3"
  }
 },
 "nbformat": 4,
 "nbformat_minor": 2
}
