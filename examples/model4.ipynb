{
 "cells": [
  {
   "cell_type": "code",
   "execution_count": 1,
   "metadata": {},
   "outputs": [],
   "source": [
    "import os\n",
    "os.chdir('/home/kru/Documents/Study/ePGD-ABA/CREDA/Capstone/bs3-analytics')"
   ]
  },
  {
   "cell_type": "code",
   "execution_count": 2,
   "metadata": {},
   "outputs": [],
   "source": [
    "from terrawatt.models.wlogit import WLogitModel"
   ]
  },
  {
   "cell_type": "code",
   "execution_count": 3,
   "metadata": {},
   "outputs": [
    {
     "name": "stderr",
     "output_type": "stream",
     "text": [
      "2025-09-12 15:51:04,510 - INFO - Weighted Logit Model initialized\n",
      "2025-09-12 15:51:04,511 - INFO - Loading data...\n",
      "2025-09-12 15:51:04,535 - INFO - X data shape: (9120, 22), Y data shape: (9120, 8)\n",
      "2025-09-12 15:51:04,541 - INFO - Merged data shape: (9120, 15)\n",
      "2025-09-12 15:51:04,542 - INFO - Binary target distribution (0s, 1s): [9091   29]\n",
      "2025-09-12 15:51:04,542 - INFO - Building spatial weights matrix...\n",
      "2025-09-12 15:51:05,144 - INFO - Spatial weights created (queen): 9120 obs, 9120.00 total weights\n",
      "2025-09-12 15:51:05,145 - INFO - Creating features...\n",
      "2025-09-12 15:51:05,148 - INFO - Filled 0 NaNs in 'ndbi_mean' using median.\n",
      "2025-09-12 15:51:05,149 - INFO - Filled 0 NaNs in 'ghi_mean' using median.\n",
      "2025-09-12 15:51:05,150 - INFO - Final feature matrix shape: (9120, 5)\n",
      "2025-09-12 15:51:05,151 - INFO - Calculating class weights...\n",
      "2025-09-12 15:51:05,151 - INFO - Weight for class 0: 0.50, Weight for class 1: 157.24\n",
      "2025-09-12 15:51:05,153 - INFO - Creating 5 spatial folds using KMeans clustering...\n",
      "2025-09-12 15:51:05,176 - INFO - Fold sizes: [1704 1840 1846 2055 1675]\n",
      "2025-09-12 15:51:05,178 - INFO - Training Weighted Logit model using statsmodels...\n",
      "2025-09-12 15:51:05,178 - INFO - Processing fold 1/5...\n",
      "2025-09-12 15:51:05,191 - INFO -   Fold 1 LogLoss: 0.0045 Accuracy: 0.9994\n",
      "2025-09-12 15:51:05,232 - INFO - Processing fold 2/5...\n",
      "2025-09-12 15:51:05,240 - INFO -   Fold 2 LogLoss: 0.0079 Accuracy: 0.9989\n",
      "2025-09-12 15:51:05,284 - INFO - Processing fold 3/5...\n",
      "2025-09-12 15:51:05,291 - INFO -   Fold 3 LogLoss: 0.0139 Accuracy: 0.9984\n",
      "2025-09-12 15:51:05,334 - INFO - Processing fold 4/5...\n",
      "2025-09-12 15:51:05,342 - INFO -   Fold 4 LogLoss: 0.0402 Accuracy: 0.9927\n"
     ]
    },
    {
     "name": "stdout",
     "output_type": "stream",
     "text": [
      "Optimization terminated successfully.\n",
      "         Current function value: 0.021112\n",
      "         Iterations 11\n",
      "Optimization terminated successfully.\n",
      "         Current function value: 0.020532\n",
      "         Iterations 11\n",
      "Optimization terminated successfully.\n",
      "         Current function value: 0.019450\n",
      "         Iterations 11\n",
      "Optimization terminated successfully.\n",
      "         Current function value: 0.012220\n",
      "         Iterations 12\n"
     ]
    },
    {
     "name": "stderr",
     "output_type": "stream",
     "text": [
      "2025-09-12 15:51:05,400 - INFO - Processing fold 5/5...\n",
      "2025-09-12 15:51:05,408 - INFO -   Fold 5 LogLoss: 0.0282 Accuracy: 0.9946\n",
      "2025-09-12 15:51:05,449 - INFO - Cross-validation scores: [{'Accuracy': 0.9994131455399061, 'LogLoss': 0.004517256187454887}, {'Accuracy': 0.9989130434782608, 'LogLoss': 0.00788053748977596}, {'Accuracy': 0.9983748645720477, 'LogLoss': 0.013905471467147098}, {'Accuracy': 0.9927007299270073, 'LogLoss': 0.04023313160729304}, {'Accuracy': 0.9946268656716418, 'LogLoss': 0.02817618602702272}]\n",
      "2025-09-12 15:51:05,455 - INFO - Model training complete.\n",
      "2025-09-12 15:51:05,468 - INFO - \n",
      "Model Summary:\n",
      "                           Logit Regression Results                           \n",
      "==============================================================================\n",
      "Dep. Variable:                      y   No. Observations:                 9120\n",
      "Model:                          Logit   Df Residuals:                     9114\n",
      "Method:                           MLE   Df Model:                            5\n",
      "Date:                Fri, 12 Sep 2025   Pseudo R-squ.:                  0.1623\n",
      "Time:                        15:51:05   Log-Likelihood:                -163.96\n",
      "converged:                       True   LL-Null:                       -195.73\n",
      "Covariance Type:            nonrobust   LLR p-value:                 2.255e-12\n",
      "=====================================================================================\n",
      "                        coef    std err          z      P>|z|      [0.025      0.975]\n",
      "-------------------------------------------------------------------------------------\n",
      "const                -7.8011      1.573     -4.959      0.000     -10.884      -4.718\n",
      "ndbi_mean            -1.2459      2.418     -0.515      0.606      -5.986       3.494\n",
      "ntl_mean              7.1467      1.229      5.814      0.000       4.738       9.556\n",
      "ghi_mean              0.5234      1.104      0.474      0.636      -1.641       2.688\n",
      "road_density_norm     1.8217      2.017      0.903      0.366      -2.131       5.775\n",
      "poi_norm              4.1896      1.537      2.726      0.006       1.177       7.202\n",
      "=====================================================================================\n",
      "2025-09-12 15:51:05,472 - INFO - Model coefficients saved to out/model_coefficients.csv\n",
      "2025-09-12 15:51:05,496 - INFO - Predictions saved to out/predictions.csv\n",
      "2025-09-12 15:51:05,497 - INFO - Performing diagnostic tests...\n"
     ]
    },
    {
     "name": "stdout",
     "output_type": "stream",
     "text": [
      "Optimization terminated successfully.\n",
      "         Current function value: 0.015829\n",
      "         Iterations 11\n",
      "Optimization terminated successfully.\n",
      "         Current function value: 0.017978\n",
      "         Iterations 11\n"
     ]
    },
    {
     "name": "stderr",
     "output_type": "stream",
     "text": [
      "2025-09-12 15:51:06,906 - INFO - Observed Moran's I: 0.001963752609157622\n",
      "2025-09-12 15:51:06,906 - INFO - Expected I under null: -0.0001096611470555982\n",
      "2025-09-12 15:51:06,907 - INFO - p-value: 0.199\n",
      "2025-09-12 15:51:06,907 - INFO - Result: No significant spatial autocorrelation (Fail to reject H0).\n",
      "2025-09-12 15:51:07,263 - INFO - Moran's I distribution plot saved to out/diagnostic_plots/moran_distribution.png\n",
      "2025-09-12 15:51:07,271 - INFO - Classification report saved to out/evaluation_report.csv\n"
     ]
    },
    {
     "data": {
      "text/plain": [
       "True"
      ]
     },
     "execution_count": 3,
     "metadata": {},
     "output_type": "execute_result"
    }
   ],
   "source": [
    "wlogit = WLogitModel(config_path='terrawatt/configs/wlogit.yaml')\n",
    "wlogit.run_model()"
   ]
  }
 ],
 "metadata": {
  "kernelspec": {
   "display_name": "Python 3 (ipykernel)",
   "language": "python",
   "name": "python3"
  }
 },
 "nbformat": 4,
 "nbformat_minor": 2
}
