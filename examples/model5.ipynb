{
 "cells": [
  {
   "cell_type": "code",
   "execution_count": 2,
   "metadata": {},
   "outputs": [],
   "source": [
    "from terrawatt.models.slx import SLXModel"
   ]
  },
  {
   "cell_type": "code",
   "execution_count": 3,
   "metadata": {},
   "outputs": [
    {
     "name": "stderr",
     "output_type": "stream",
     "text": [
      "2025-09-13 14:00:30,778 - INFO - SLX Logit Model initialized\n",
      "2025-09-13 14:00:30,780 - INFO - Loading data...\n",
      "2025-09-13 14:00:30,813 - INFO - X data shape: (9120, 22), Y data shape: (9120, 8)\n",
      "2025-09-13 14:00:30,821 - INFO - Merged data shape: (9120, 15)\n",
      "2025-09-13 14:00:30,822 - INFO - Binary target distribution (0s, 1s): [9091   29]\n",
      "2025-09-13 14:00:30,823 - INFO - Building spatial weights matrix...\n",
      "2025-09-13 14:00:31,480 - INFO - Spatial weights created (queen): 9120 obs, 9120.00 total weights\n",
      "2025-09-13 14:00:31,481 - INFO - Creating spatially lagged features...\n",
      "2025-09-13 14:00:31,483 - INFO - Filled 0 NaNs in 'ndbi_mean' using median.\n",
      "2025-09-13 14:00:31,484 - INFO - Filled 0 NaNs in 'ghi_mean' using median.\n",
      "2025-09-13 14:00:31,485 - INFO - Final feature matrix shape: (9120, 5)\n",
      "2025-09-13 14:00:31,489 - INFO - Training SLX Probit model using spreg...\n",
      "2025-09-13 14:00:31,542 - INFO - Model training complete.\n",
      "2025-09-13 14:00:31,543 - INFO - \n",
      "Model Summary:\n",
      "{'TPR': np.float64(0.0), 'TNR': np.float64(100.0), 'BA': np.float64(50.0), 'PREDPC': np.float64(99.68201754385964)}\n",
      "2025-09-13 14:00:31,546 - INFO - Model coefficients saved to out/model_coefficients.csv\n",
      "2025-09-13 14:00:31,547 - INFO - Performing diagnostic tests...\n",
      "2025-09-13 14:00:33,092 - INFO - Observed Moran's I: -0.004438101389293207\n",
      "2025-09-13 14:00:33,093 - INFO - Expected I under null: -0.0001096611470555982\n",
      "2025-09-13 14:00:33,093 - INFO - p-value: 0.0474\n",
      "2025-09-13 14:00:33,094 - INFO - Result: Significant spatial autocorrelation in the residuals (Reject H0).\n",
      "2025-09-13 14:00:33,473 - INFO - Moran's I distribution plot saved to out/diagnostic_plots/moran_distribution.png\n",
      "2025-09-13 14:00:33,474 - INFO - REGRESSION RESULTS\n",
      "------------------\n",
      "\n",
      "SUMMARY OF OUTPUT: CLASSIC PROBIT ESTIMATOR WITH SPATIALLY LAGGED X (SLX)\n",
      "-------------------------------------------------------------------------\n",
      "Data set            :     unknown\n",
      "Weights matrix      :       queen\n",
      "Dependent Variable  :         BSS                Number of Observations:        9120\n",
      "True positive rate  :        0.00                Number of Variables   :          11\n",
      "True negative rate  :      100.00                Degrees of Freedom    :        9109\n",
      "Balanced accuracy   :       50.00                Log-Likelihood        :   -156.5033\n",
      "% correctly pred.   :       99.68                LR test               :     78.4550\n",
      "McFadden's rho      :        0.20                LR test (p-value)     :      0.0000\n",
      "\n",
      "------------------------------------------------------------------------------------\n",
      "            Variable     Coefficient       Std.Error     z-Statistic     Probability\n",
      "------------------------------------------------------------------------------------\n",
      "            CONSTANT        -3.47624         0.85208        -4.07969         0.00005\n",
      "           ndbi_mean         0.78537         1.23585         0.63549         0.52511\n",
      "            ntl_mean        -2.07672         1.93976        -1.07061         0.28435\n",
      "            ghi_mean         0.57167        12.43005         0.04599         0.96332\n",
      "   road_density_norm         0.48060         1.03532         0.46421         0.64250\n",
      "            poi_norm         1.23552         0.87779         1.40752         0.15927\n",
      "         W_ndbi_mean        -2.34591         1.84030        -1.27474         0.20240\n",
      "          W_ntl_mean         5.84135         2.23298         2.61594         0.00890\n",
      "          W_ghi_mean         0.22473        12.46440         0.01803         0.98562\n",
      " W_road_density_norm        -1.15336         2.13807        -0.53944         0.58958\n",
      "          W_poi_norm         3.89211         2.00394         1.94223         0.05211\n",
      "------------------------------------------------------------------------------------\n",
      "\n",
      "MARGINAL EFFECTS\n",
      "Method: Mean of individual marginal effects\n",
      "------------------------------------------------------------------------------------\n",
      "            Variable      Slope            Std.Error     z-Statistic     Probability\n",
      "------------------------------------------------------------------------------------\n",
      "           ndbi_mean         0.00643         0.01060         0.60638         0.54427\n",
      "            ntl_mean        -0.01700         0.01779        -0.95584         0.33915\n",
      "            ghi_mean         0.00468         0.10175         0.04599         0.96331\n",
      "   road_density_norm         0.00393         0.00875         0.44991         0.65278\n",
      "            poi_norm         0.01011         0.00927         1.09102         0.27527\n",
      "         W_ndbi_mean        -0.01920         0.01594        -1.20463         0.22834\n",
      "          W_ntl_mean         0.04782         0.02792         1.71263         0.08678\n",
      "          W_ghi_mean         0.00184         0.10205         0.01803         0.98562\n",
      " W_road_density_norm        -0.00944         0.01874        -0.50397         0.61428\n",
      "          W_poi_norm         0.03186         0.02347         1.35763         0.17458\n",
      "------------------------------------------------------------------------------------\n",
      "\n",
      "CONFUSION MATRIX\n",
      "                          Positive (1)      Negative (0)   \n",
      "Observed                      29             9091           \n",
      "Predicted                     0              9120           \n",
      "Correctly Predicted           0              9091           \n",
      "Wrongly Predicted             29             0              \n",
      "\n",
      "------------------------------------------------------------------------------------\n",
      "\n",
      "DIAGNOSTICS FOR SPATIAL DEPENDENCE\n",
      "TEST                          DF             VALUE           PROB\n",
      "Kelejian-Prucha (error)       1             -0.374           0.7087\n",
      "Pinkse (error)                1              0.696           0.4043\n",
      "Pinkse-Slade (error)          1              0.065           0.7988\n",
      "\n",
      "================================ END OF REPORT =====================================\n",
      "2025-09-13 14:00:33,474 - INFO - Diagnostic test results:\n",
      "2025-09-13 14:00:33,475 - INFO -   morans_i: Statistic=-0.004438101389293207, p-value=0.0474\n",
      "2025-09-13 14:00:33,475 - INFO -   Pinkse_error: Statistic=0.6955268805443844, p-value=0.4042908216225428\n",
      "2025-09-13 14:00:33,475 - INFO -   KP_error: Statistic=-0.37361568672194073, p-value=0.7086902614827293\n",
      "2025-09-13 14:00:33,476 - INFO -   PS_error: Statistic=0.06499357556916129, p-value=0.7987706955317649\n",
      "2025-09-13 14:00:33,476 - INFO -   mcfaddens_rho: Statistic=0.2004156073600496, p-value=None\n",
      "2025-09-13 14:00:33,476 - INFO -   lr_test: Statistic=78.45501108910372, p-value=2.9336421532857917e-12\n"
     ]
    },
    {
     "data": {
      "text/plain": [
       "True"
      ]
     },
     "execution_count": 3,
     "metadata": {},
     "output_type": "execute_result"
    }
   ],
   "source": [
    "slx = SLXModel(config_path='terrawatt/configs/slx_probit.yaml')\n",
    "slx.run_model()"
   ]
  }
 ],
 "metadata": {
  "kernelspec": {
   "display_name": "Python 3 (ipykernel)",
   "language": "python",
   "name": "python3"
  },
  "language_info": {
   "codemirror_mode": {
    "name": "ipython",
    "version": 3
   },
   "file_extension": ".py",
   "mimetype": "text/x-python",
   "name": "python",
   "nbconvert_exporter": "python",
   "pygments_lexer": "ipython3",
   "version": "3.12.3"
  }
 },
 "nbformat": 4,
 "nbformat_minor": 2
}
