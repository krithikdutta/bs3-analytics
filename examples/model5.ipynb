{
 "cells": [
  {
   "cell_type": "code",
   "execution_count": 1,
   "metadata": {},
   "outputs": [],
   "source": [
    "import os\n",
    "os.chdir('/home/kru/Documents/Study/ePGD-ABA/CREDA/Capstone/bs3-analytics')"
   ]
  },
  {
   "cell_type": "code",
   "execution_count": 2,
   "metadata": {},
   "outputs": [],
   "source": [
    "from terrawatt.models.slx import SLXModel"
   ]
  },
  {
   "cell_type": "code",
   "execution_count": 3,
   "metadata": {},
   "outputs": [
    {
     "name": "stderr",
     "output_type": "stream",
     "text": [
      "2025-09-12 22:22:23,138 - INFO - SLX Logit Model initialized\n",
      "2025-09-12 22:22:23,139 - INFO - Loading data...\n",
      "2025-09-12 22:22:23,157 - INFO - X data shape: (9120, 22), Y data shape: (9120, 8)\n",
      "2025-09-12 22:22:23,159 - INFO - Merged data shape: (9120, 15)\n",
      "2025-09-12 22:22:23,160 - INFO - Binary target distribution (0s, 1s): [9091   29]\n",
      "2025-09-12 22:22:23,160 - INFO - Building spatial weights matrix...\n",
      "2025-09-12 22:22:23,800 - INFO - Spatial weights created (queen): 9120 obs, 9120.00 total weights\n",
      "2025-09-12 22:22:23,801 - INFO - Creating spatially lagged features...\n",
      "2025-09-12 22:22:23,803 - INFO - Filled 0 NaNs in 'ndbi_mean' using median.\n",
      "2025-09-12 22:22:23,804 - INFO - Filled 0 NaNs in 'ghi_mean' using median.\n",
      "2025-09-12 22:22:23,805 - INFO - Final feature matrix shape: (9120, 10)\n",
      "2025-09-12 22:22:23,809 - INFO - Training SLX Probit model using spreg...\n",
      "2025-09-12 22:22:23,848 - INFO - Model training complete.\n",
      "2025-09-12 22:22:23,848 - INFO - \n",
      "Model Summary:\n",
      "{'TPR': np.float64(27.586206896551722), 'TNR': np.float64(27.576724232757673), 'BA': np.float64(27.5814655646547), 'PREDPC': np.float64(27.57675438596491)}\n",
      "2025-09-12 22:22:23,851 - INFO - Model coefficients saved to out/model_coefficients.csv\n",
      "2025-09-12 22:22:23,852 - INFO - Performing diagnostic tests...\n",
      "2025-09-12 22:22:25,263 - INFO - Observed Moran's I: nan\n",
      "2025-09-12 22:22:25,263 - INFO - Expected I under null: -0.0001096611470555982\n",
      "2025-09-12 22:22:25,263 - INFO - p-value: 0.0001\n",
      "2025-09-12 22:22:25,264 - INFO - Result: Significant spatial autocorrelation in the residuals (Reject H0).\n",
      "2025-09-12 22:22:25,447 - ERROR - Could not generate Moran's I plot because simulation results contain non-finite values.\n",
      "2025-09-12 22:22:25,448 - INFO - REGRESSION RESULTS\n",
      "------------------\n",
      "\n",
      "SUMMARY OF OUTPUT: CLASSIC PROBIT ESTIMATOR WITH SPATIALLY LAGGED X (SLX)\n",
      "-------------------------------------------------------------------------\n",
      "Data set            :     unknown\n",
      "Weights matrix      :       queen\n",
      "Dependent Variable  :         BSS                Number of Observations:        9120\n",
      "True positive rate  :       27.59                Number of Variables   :          21\n",
      "True negative rate  :       27.58                Degrees of Freedom    :        9099\n",
      "Balanced accuracy   :       27.58                Log-Likelihood        : -14682.1546\n",
      "% correctly pred.   :       27.58                LR test               : -28972.8476\n",
      "McFadden's rho      :      -74.01                LR test (p-value)     :      1.0000\n",
      "\n",
      "------------------------------------------------------------------------------------\n",
      "            Variable     Coefficient       Std.Error     z-Statistic     Probability\n",
      "------------------------------------------------------------------------------------\n",
      "            CONSTANT        -1.68672    256393.63826        -0.00001         0.99999\n",
      "           ndbi_mean        -0.23483         0.21262        -1.10448         0.26939\n",
      "            ntl_mean        -3.16872         0.59956        -5.28504         0.00000\n",
      "            ghi_mean        -0.68204         0.98107        -0.69520         0.48693\n",
      "   road_density_norm        14.08212         0.32176        43.76655         0.00000\n",
      "            poi_norm        22.76661         0.55814        40.79042         0.00000\n",
      "         W_ndbi_mean        -4.80885    134301.81811        -0.00004         0.99997\n",
      "          W_ntl_mean       -56.45597    \n",
      "          W_ghi_mean         4.50954    \n",
      " W_road_density_norm         0.71351    3810956.91537         0.00000         1.00000\n",
      "          W_poi_norm        27.00724    \n",
      "         W_ndbi_mean         8.50097    175158.54326         0.00005         0.99996\n",
      "          W_ntl_mean        74.63675    \n",
      "          W_ghi_mean        -3.37838    \n",
      " W_road_density_norm       -18.01115    9793263.26135        -0.00000         1.00000\n",
      "          W_poi_norm      -132.15984    \n",
      "       W_W_ndbi_mean         0.09362         0.60208         0.15549         0.87644\n",
      "        W_W_ntl_mean        -0.07835         1.11667        -0.07016         0.94406\n",
      "        W_W_ghi_mean         0.08644         2.77689         0.03113         0.97517\n",
      "W_W_road_density_norm        -0.07372         0.61050        -0.12075         0.90389\n",
      "        W_W_poi_norm         0.26007         0.59230         0.43908         0.66060\n",
      "------------------------------------------------------------------------------------\n",
      "\n",
      "MARGINAL EFFECTS\n",
      "Method: Mean of individual marginal effects\n",
      "------------------------------------------------------------------------------------\n",
      "            Variable      Slope            Std.Error     z-Statistic     Probability\n",
      "------------------------------------------------------------------------------------\n",
      "           ndbi_mean        -0.05749         0.05206        -1.10435         0.26944\n",
      "            ntl_mean        -0.77581         0.14691        -5.28068         0.00000\n",
      "            ghi_mean        -0.16699         0.24018        -0.69527         0.48689\n",
      "   road_density_norm         3.44778         0.08107        42.52836         0.00000\n",
      "            poi_norm         5.57404         0.14665        38.00800         0.00000\n",
      "         W_ndbi_mean        -1.17737     32881.65294        -0.00004         0.99997\n",
      "          W_ntl_mean       -13.82234             nan             nan             nan\n",
      "          W_ghi_mean         1.10409             nan             nan             nan\n",
      " W_road_density_norm         0.17469    933051.87086         0.00000         1.00000\n",
      "          W_poi_norm         6.61229             nan             nan             nan\n",
      "         W_ndbi_mean         2.08133     42884.76887         0.00005         0.99996\n",
      "          W_ntl_mean        18.27362             nan             nan             nan\n",
      "          W_ghi_mean        -0.82714             nan             nan             nan\n",
      " W_road_density_norm        -4.40974    2397723.93411        -0.00000         1.00000\n",
      "          W_poi_norm       -32.35722             nan             nan             nan\n",
      "       W_W_ndbi_mean         0.02292         0.14741         0.15549         0.87643\n",
      "        W_W_ntl_mean        -0.01918         0.27340        -0.07016         0.94406\n",
      "        W_W_ghi_mean         0.02116         0.67988         0.03113         0.97517\n",
      "W_W_road_density_norm        -0.01805         0.14947        -0.12076         0.90388\n",
      "        W_W_poi_norm         0.06367         0.14502         0.43908         0.66060\n",
      "------------------------------------------------------------------------------------\n",
      "\n",
      "CONFUSION MATRIX\n",
      "                          Positive (1)      Negative (0)   \n",
      "Observed                      29             9091           \n",
      "Predicted                     6592           2528           \n",
      "Correctly Predicted           8              2507           \n",
      "Wrongly Predicted             21             6584           \n",
      "\n",
      "------------------------------------------------------------------------------------\n",
      "\n",
      "DIAGNOSTICS FOR SPATIAL DEPENDENCE\n",
      "TEST                          DF             VALUE           PROB\n",
      "Kelejian-Prucha (error)       1            565.023           0.0000\n",
      "Pinkse (error)                1                nan              nan\n",
      "Pinkse-Slade (error)          1                nan              nan\n",
      "\n",
      "================================ END OF REPORT =====================================\n",
      "2025-09-12 22:22:25,448 - INFO - Diagnostic test results:\n",
      "2025-09-12 22:22:25,448 - INFO -   morans_i: Statistic=nan, p-value=0.0001\n",
      "2025-09-12 22:22:25,449 - INFO -   Pinkse_error: Statistic=nan, p-value=nan\n",
      "2025-09-12 22:22:25,449 - INFO -   KP_error: Statistic=565.0225223755668, p-value=0.0\n",
      "2025-09-12 22:22:25,449 - INFO -   PS_error: Statistic=nan, p-value=nan\n",
      "2025-09-12 22:22:25,449 - INFO -   mcfaddens_rho: Statistic=-74.0119816888876, p-value=None\n",
      "2025-09-12 22:22:25,450 - INFO -   lr_test: Statistic=-28972.84757716776, p-value=1.0\n"
     ]
    },
    {
     "data": {
      "text/plain": [
       "True"
      ]
     },
     "execution_count": 3,
     "metadata": {},
     "output_type": "execute_result"
    }
   ],
   "source": [
    "slx = SLXModel(config_path='terrawatt/configs/slx_probit.yaml')\n",
    "slx.run_model()"
   ]
  }
 ],
 "metadata": {
  "kernelspec": {
   "display_name": "Python 3 (ipykernel)",
   "language": "python",
   "name": "python3"
  },
  "language_info": {
   "codemirror_mode": {
    "name": "ipython",
    "version": 3
   },
   "file_extension": ".py",
   "mimetype": "text/x-python",
   "name": "python",
   "nbconvert_exporter": "python",
   "pygments_lexer": "ipython3",
   "version": "3.12.3"
  }
 },
 "nbformat": 4,
 "nbformat_minor": 2
}
