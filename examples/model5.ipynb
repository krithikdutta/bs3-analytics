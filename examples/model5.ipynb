{
 "cells": [
  {
   "cell_type": "code",
   "execution_count": 1,
   "metadata": {},
   "outputs": [],
   "source": [
    "from terrawatt.models.alt import SLXProbitModel"
   ]
  },
  {
   "cell_type": "code",
   "execution_count": 2,
   "metadata": {},
   "outputs": [
    {
     "name": "stderr",
     "output_type": "stream",
     "text": [
      "2025-09-16 02:11:30 - terrawatt.models.terrawatt.SLXProbitModel - INFO - --- Logging initialized ---\n",
      "2025-09-16 02:11:30 - terrawatt.models.terrawatt.SLXProbitModel - INFO - Model: SLX_v2 initialized\n",
      "2025-09-16 02:11:30 - terrawatt.models.terrawatt.SLXProbitModel - INFO - SLX Probit Model initialized\n"
     ]
    }
   ],
   "source": [
    "slx = SLXProbitModel(config_path='terrawatt/configs/slx_probit.yaml')\n",
    "# slx.train()"
   ]
  },
  {
   "cell_type": "code",
   "execution_count": 3,
   "metadata": {},
   "outputs": [
    {
     "name": "stderr",
     "output_type": "stream",
     "text": [
      "2025-09-16 02:11:31 - terrawatt.models.terrawatt.SLXProbitModel - INFO - Loading data from X: data/BLR_X_normalized.csv, y: data/BLR_Y.csv\n",
      "2025-09-16 02:11:31 - terrawatt.models.terrawatt.SLXProbitModel - INFO - Loaded X: (9122, 25), Y: (9120, 8)\n",
      "2025-09-16 02:11:31 - terrawatt.models.terrawatt.SLXProbitModel - INFO - Merged dataset shape: (9120, 15)\n",
      "2025-09-16 02:11:31 - terrawatt.models.terrawatt.SLXProbitModel - INFO - Creating features...\n",
      "2025-09-16 02:11:31 - terrawatt.models.terrawatt.SLXProbitModel - INFO - Binary target distribution - 0s: 9091, 1s: 29\n",
      "2025-09-16 02:11:31 - terrawatt.models.terrawatt.SLXProbitModel - WARNING - Severe class imbalance detected. Minority class ratio: 0.003\n",
      "2025-09-16 02:11:31 - terrawatt.models.terrawatt.SLXProbitModel - INFO - Building spatial weights matrix...\n",
      "2025-09-16 02:11:32 - terrawatt.models.terrawatt.SLXProbitModel - INFO - Creating spatial weights using 'queen' contiguity...\n",
      "2025-09-16 02:11:32 - terrawatt.models.terrawatt.SLXProbitModel - INFO - Creating feature matrix...\n",
      "2025-09-16 02:11:32 - terrawatt.models.terrawatt.SLXProbitModel - INFO - Applying imputation using method: median\n",
      "2025-09-16 02:11:32 - terrawatt.models.terrawatt.SLXProbitModel - INFO - Imputing 6 missing values in column 'ndbi_mean'\n",
      "2025-09-16 02:11:32 - terrawatt.models.terrawatt.SLXProbitModel - INFO - Imputing 43 missing values in column 'ghi_mean'\n",
      "2025-09-16 02:11:32 - terrawatt.models.terrawatt.SLXProbitModel - INFO - Creating spatially lagged features...\n",
      "2025-09-16 02:11:32 - terrawatt.models.terrawatt.SLXProbitModel - INFO - Final feature matrix shape: (9120, 10)\n",
      "2025-09-16 02:11:32 - terrawatt.models.terrawatt.SLXProbitModel - INFO - Feature columns: ['ndbi_mean', 'ntl_mean', 'ghi_mean', 'road_density_norm', 'poi_norm']\n"
     ]
    }
   ],
   "source": [
    "slx._load_data()"
   ]
  },
  {
   "cell_type": "code",
   "execution_count": 4,
   "metadata": {},
   "outputs": [
    {
     "name": "stderr",
     "output_type": "stream",
     "text": [
      "2025-09-16 02:11:34 - terrawatt.models.terrawatt.SLXProbitModel - INFO - Loading test data from X: data/RPR_X_normalized.csv\n",
      "2025-09-16 02:11:34 - terrawatt.models.terrawatt.SLXProbitModel - INFO - Loading validation data from X: data/DEL_X_normalized.csv, y: data/DEL_Y.csv\n",
      "2025-09-16 02:11:34 - terrawatt.models.terrawatt.SLXProbitModel - INFO - Loaded test X: (11957, 26)\n",
      "2025-09-16 02:11:34 - terrawatt.models.terrawatt.SLXProbitModel - INFO - Creating features...\n",
      "2025-09-16 02:11:34 - terrawatt.models.terrawatt.SLXProbitModel - INFO - No target variable found; proceeding without target.\n",
      "2025-09-16 02:11:34 - terrawatt.models.terrawatt.SLXProbitModel - INFO - Building spatial weights matrix...\n",
      "2025-09-16 02:11:35 - terrawatt.models.terrawatt.SLXProbitModel - INFO - Creating spatial weights using 'queen' contiguity...\n",
      "2025-09-16 02:11:35 - terrawatt.models.terrawatt.SLXProbitModel - INFO - Creating feature matrix...\n",
      "2025-09-16 02:11:35 - terrawatt.models.terrawatt.SLXProbitModel - INFO - Applying imputation using method: median\n",
      "2025-09-16 02:11:35 - terrawatt.models.terrawatt.SLXProbitModel - INFO - Imputing 4 missing values in column 'ndbi_mean'\n",
      "2025-09-16 02:11:35 - terrawatt.models.terrawatt.SLXProbitModel - INFO - Imputing 44 missing values in column 'ghi_mean'\n",
      "2025-09-16 02:11:35 - terrawatt.models.terrawatt.SLXProbitModel - INFO - Creating spatially lagged features...\n",
      "2025-09-16 02:11:35 - terrawatt.models.terrawatt.SLXProbitModel - INFO - Final feature matrix shape: (11957, 10)\n",
      "2025-09-16 02:11:35 - terrawatt.models.terrawatt.SLXProbitModel - INFO - Feature columns: ['ndbi_mean', 'ntl_mean', 'ghi_mean', 'road_density_norm', 'poi_norm']\n",
      "2025-09-16 02:11:35 - terrawatt.models.terrawatt.SLXProbitModel - INFO - Loaded validation X: (6191, 25), Y: (6191, 8)\n",
      "2025-09-16 02:11:35 - terrawatt.models.terrawatt.SLXProbitModel - INFO - Merged validation dataset shape: (6191, 15)\n",
      "2025-09-16 02:11:35 - terrawatt.models.terrawatt.SLXProbitModel - INFO - Creating features...\n",
      "2025-09-16 02:11:35 - terrawatt.models.terrawatt.SLXProbitModel - INFO - Binary target distribution - 0s: 6164, 1s: 27\n",
      "2025-09-16 02:11:35 - terrawatt.models.terrawatt.SLXProbitModel - WARNING - Severe class imbalance detected. Minority class ratio: 0.004\n",
      "2025-09-16 02:11:35 - terrawatt.models.terrawatt.SLXProbitModel - INFO - Building spatial weights matrix...\n",
      "2025-09-16 02:11:35 - terrawatt.models.terrawatt.SLXProbitModel - INFO - Creating spatial weights using 'queen' contiguity...\n",
      "2025-09-16 02:11:35 - terrawatt.models.terrawatt.SLXProbitModel - INFO - Creating feature matrix...\n",
      "2025-09-16 02:11:35 - terrawatt.models.terrawatt.SLXProbitModel - INFO - Applying imputation using method: median\n",
      "2025-09-16 02:11:35 - terrawatt.models.terrawatt.SLXProbitModel - INFO - Creating spatially lagged features...\n",
      "2025-09-16 02:11:35 - terrawatt.models.terrawatt.SLXProbitModel - INFO - Final feature matrix shape: (6191, 10)\n",
      "2025-09-16 02:11:35 - terrawatt.models.terrawatt.SLXProbitModel - INFO - Feature columns: ['ndbi_mean', 'ntl_mean', 'ghi_mean', 'road_density_norm', 'poi_norm']\n"
     ]
    }
   ],
   "source": [
    "slx._load_test_validation_data()"
   ]
  },
  {
   "cell_type": "code",
   "execution_count": null,
   "metadata": {},
   "outputs": [],
   "source": [
    "slx._train()\n",
    "slx._evaluate()"
   ]
  }
 ],
 "metadata": {
  "kernelspec": {
   "display_name": "Python 3 (ipykernel)",
   "language": "python",
   "name": "python3"
  }
 },
 "nbformat": 4,
 "nbformat_minor": 2
}
