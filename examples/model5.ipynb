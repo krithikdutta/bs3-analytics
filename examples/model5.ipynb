{
 "cells": [
  {
   "cell_type": "code",
   "execution_count": 2,
   "metadata": {},
   "outputs": [],
   "source": [
    "from terrawatt.models.slx import SLXProbitModel"
   ]
  },
  {
   "cell_type": "code",
   "execution_count": 3,
   "metadata": {},
   "outputs": [
    {
     "name": "stderr",
     "output_type": "stream",
     "text": [
      "2025-09-17 16:26:34 - terrawatt.models.terrawatt.SLXProbitModel - INFO - --- Logging initialized ---\n",
      "2025-09-17 16:26:34 - terrawatt.models.terrawatt.SLXProbitModel - INFO - Model: SLX_v2 initialized\n"
     ]
    }
   ],
   "source": [
    "slx = SLXProbitModel(config_path='terrawatt/configs/slx_probit.yaml')\n",
    "# slx.train()"
   ]
  },
  {
   "cell_type": "code",
   "execution_count": 4,
   "metadata": {},
   "outputs": [
    {
     "name": "stderr",
     "output_type": "stream",
     "text": [
      "2025-09-17 16:26:36 - terrawatt.models.terrawatt.SLXProbitModel - INFO - Loading data from X: data/BLR_X_normalized.csv, y: data/BLR_Y.csv\n",
      "2025-09-17 16:26:36 - terrawatt.models.terrawatt.SLXProbitModel - INFO - Loaded X: (9120, 25), Y: (9120, 8)\n",
      "2025-09-17 16:26:36 - terrawatt.models.terrawatt.SLXProbitModel - INFO - Merged dataset shape: (9120, 15)\n",
      "2025-09-17 16:26:36 - terrawatt.models.terrawatt.SLXProbitModel - INFO - Creating features...\n",
      "2025-09-17 16:26:36 - terrawatt.models.terrawatt.SLXProbitModel - INFO - Binary target distribution - 0s: 9091, 1s: 29\n",
      "2025-09-17 16:26:36 - terrawatt.models.terrawatt.SLXProbitModel - WARNING - Severe class imbalance detected. Minority class ratio: 0.003\n",
      "2025-09-17 16:26:36 - terrawatt.models.terrawatt.SLXProbitModel - INFO - Building spatial weights matrix...\n",
      "2025-09-17 16:26:37 - terrawatt.models.terrawatt.SLXProbitModel - INFO - Creating spatial weights using 'queen' contiguity...\n",
      "2025-09-17 16:26:37 - terrawatt.models.terrawatt.SLXProbitModel - INFO - Creating feature matrix...\n",
      "2025-09-17 16:26:37 - terrawatt.models.terrawatt.SLXProbitModel - INFO - Applying imputation using method: median\n",
      "2025-09-17 16:26:37 - terrawatt.models.terrawatt.SLXProbitModel - INFO - Imputing 6 missing values in column 'ndbi_mean'\n",
      "2025-09-17 16:26:37 - terrawatt.models.terrawatt.SLXProbitModel - INFO - Imputing 43 missing values in column 'ghi_mean'\n",
      "2025-09-17 16:26:37 - terrawatt.models.terrawatt.SLXProbitModel - INFO - Creating spatially lagged features...\n",
      "2025-09-17 16:26:37 - terrawatt.models.terrawatt.SLXProbitModel - INFO - Final feature matrix shape: (9120, 10)\n",
      "2025-09-17 16:26:37 - terrawatt.models.terrawatt.SLXProbitModel - INFO - Feature columns: ['ndbi_mean', 'ntl_mean', 'ghi_mean', 'road_density_norm', 'poi_norm']\n"
     ]
    }
   ],
   "source": [
    "slx._load_data()"
   ]
  },
  {
   "cell_type": "code",
   "execution_count": 5,
   "metadata": {},
   "outputs": [
    {
     "name": "stderr",
     "output_type": "stream",
     "text": [
      "2025-09-17 16:26:40 - terrawatt.models.terrawatt.SLXProbitModel - INFO - Loading test data from X: data/RPR_X_normalized.csv\n",
      "2025-09-17 16:26:40 - terrawatt.models.terrawatt.SLXProbitModel - INFO - Loading validation data from X: data/DEL_X_normalized.csv, y: data/DEL_Y.csv\n",
      "2025-09-17 16:26:40 - terrawatt.models.terrawatt.SLXProbitModel - INFO - Loaded test X: (11957, 26)\n",
      "2025-09-17 16:26:40 - terrawatt.models.terrawatt.SLXProbitModel - INFO - Creating features...\n",
      "2025-09-17 16:26:40 - terrawatt.models.terrawatt.SLXProbitModel - INFO - No target variable found; proceeding without target.\n",
      "2025-09-17 16:26:40 - terrawatt.models.terrawatt.SLXProbitModel - INFO - Building spatial weights matrix...\n",
      "2025-09-17 16:26:41 - terrawatt.models.terrawatt.SLXProbitModel - INFO - Creating spatial weights using 'queen' contiguity...\n",
      "2025-09-17 16:26:41 - terrawatt.models.terrawatt.SLXProbitModel - INFO - Creating feature matrix...\n",
      "2025-09-17 16:26:41 - terrawatt.models.terrawatt.SLXProbitModel - INFO - Applying imputation using method: median\n",
      "2025-09-17 16:26:41 - terrawatt.models.terrawatt.SLXProbitModel - INFO - Imputing 4 missing values in column 'ndbi_mean'\n",
      "2025-09-17 16:26:41 - terrawatt.models.terrawatt.SLXProbitModel - INFO - Imputing 44 missing values in column 'ghi_mean'\n",
      "2025-09-17 16:26:41 - terrawatt.models.terrawatt.SLXProbitModel - INFO - Creating spatially lagged features...\n",
      "2025-09-17 16:26:41 - terrawatt.models.terrawatt.SLXProbitModel - INFO - Final feature matrix shape: (11957, 10)\n",
      "2025-09-17 16:26:41 - terrawatt.models.terrawatt.SLXProbitModel - INFO - Feature columns: ['ndbi_mean', 'ntl_mean', 'ghi_mean', 'road_density_norm', 'poi_norm']\n",
      "2025-09-17 16:26:41 - terrawatt.models.terrawatt.SLXProbitModel - INFO - Loaded validation X: (6191, 25), Y: (6191, 8)\n",
      "2025-09-17 16:26:41 - terrawatt.models.terrawatt.SLXProbitModel - INFO - Merged validation dataset shape: (6191, 15)\n",
      "2025-09-17 16:26:41 - terrawatt.models.terrawatt.SLXProbitModel - INFO - Creating features...\n",
      "2025-09-17 16:26:41 - terrawatt.models.terrawatt.SLXProbitModel - INFO - Binary target distribution - 0s: 6164, 1s: 27\n",
      "2025-09-17 16:26:41 - terrawatt.models.terrawatt.SLXProbitModel - WARNING - Severe class imbalance detected. Minority class ratio: 0.004\n",
      "2025-09-17 16:26:41 - terrawatt.models.terrawatt.SLXProbitModel - INFO - Building spatial weights matrix...\n",
      "2025-09-17 16:26:41 - terrawatt.models.terrawatt.SLXProbitModel - INFO - Creating spatial weights using 'queen' contiguity...\n",
      "2025-09-17 16:26:42 - terrawatt.models.terrawatt.SLXProbitModel - INFO - Creating feature matrix...\n",
      "2025-09-17 16:26:42 - terrawatt.models.terrawatt.SLXProbitModel - INFO - Applying imputation using method: median\n",
      "2025-09-17 16:26:42 - terrawatt.models.terrawatt.SLXProbitModel - INFO - Creating spatially lagged features...\n",
      "2025-09-17 16:26:42 - terrawatt.models.terrawatt.SLXProbitModel - INFO - Final feature matrix shape: (6191, 10)\n",
      "2025-09-17 16:26:42 - terrawatt.models.terrawatt.SLXProbitModel - INFO - Feature columns: ['ndbi_mean', 'ntl_mean', 'ghi_mean', 'road_density_norm', 'poi_norm']\n"
     ]
    }
   ],
   "source": [
    "slx._load_test_validation_data()"
   ]
  },
  {
   "cell_type": "code",
   "execution_count": 6,
   "metadata": {},
   "outputs": [
    {
     "name": "stderr",
     "output_type": "stream",
     "text": [
      "2025-09-17 16:26:43 - terrawatt.models.terrawatt.SLXProbitModel - INFO - Training SLX Probit model using spreg...\n",
      "2025-09-17 16:26:43 - terrawatt.models.terrawatt.SLXProbitModel - INFO - Model training complete.\n",
      "2025-09-17 16:26:43 - terrawatt.models.terrawatt.SLXProbitModel - INFO - \n",
      "Model Summary:\n",
      "REGRESSION RESULTS\n",
      "------------------\n",
      "\n",
      "SUMMARY OF OUTPUT: CLASSIC PROBIT ESTIMATOR WITH SPATIALLY LAGGED X (SLX)\n",
      "-------------------------------------------------------------------------\n",
      "Data set            :     unknown\n",
      "Weights matrix      :spatial_weights\n",
      "Dependent Variable  :     num_bss                Number of Observations:        9120\n",
      "True positive rate  :        0.00                Number of Variables   :          11\n",
      "True negative rate  :      100.00                Degrees of Freedom    :        9109\n",
      "Balanced accuracy   :       50.00                Log-Likelihood        :   -155.7067\n",
      "% correctly pred.   :       99.68                LR test               :     80.0482\n",
      "McFadden's rho      :        0.20                LR test (p-value)     :      0.0000\n",
      "\n",
      "------------------------------------------------------------------------------------\n",
      "            Variable     Coefficient       Std.Error     z-Statistic     Probability\n",
      "------------------------------------------------------------------------------------\n",
      "            CONSTANT        -3.79988         0.87509        -4.34225         0.00001\n",
      "           ndbi_mean         0.67879         1.25061         0.54277         0.58729\n",
      "            ntl_mean        -1.77940         1.95288        -0.91117         0.36221\n",
      "            ghi_mean         0.23178        13.11885         0.01767         0.98590\n",
      "   road_density_norm        -1.71100         1.83549        -0.93218         0.35124\n",
      "            poi_norm         1.19943         0.88282         1.35864         0.17426\n",
      "         W_ndbi_mean        -1.87891         1.87238        -1.00349         0.31563\n",
      "          W_ntl_mean         5.04680         2.28654         2.20718         0.02730\n",
      "          W_ghi_mean         0.60804        13.16075         0.04620         0.96315\n",
      " W_road_density_norm         3.18249         2.29831         1.38470         0.16614\n",
      "          W_poi_norm         3.57369         2.04859         1.74447         0.08108\n",
      "------------------------------------------------------------------------------------\n",
      "\n",
      "MARGINAL EFFECTS\n",
      "Method: Mean of individual marginal effects\n",
      "------------------------------------------------------------------------------------\n",
      "            Variable      Slope            Std.Error     z-Statistic     Probability\n",
      "------------------------------------------------------------------------------------\n",
      "           ndbi_mean         0.00554         0.01073         0.51658         0.60545\n",
      "            ntl_mean        -0.01453         0.01792        -0.81053         0.41764\n",
      "            ghi_mean         0.00189         0.10711         0.01767         0.98591\n",
      "   road_density_norm        -0.01397         0.01768        -0.79001         0.42952\n",
      "            poi_norm         0.00979         0.00981         0.99771         0.31842\n",
      "         W_ndbi_mean        -0.01534         0.01612        -0.95181         0.34119\n",
      "          W_ntl_mean         0.04120         0.02895         1.42299         0.15474\n",
      "          W_ghi_mean         0.00496         0.10742         0.04621         0.96314\n",
      " W_road_density_norm         0.02598         0.02229         1.16558         0.24378\n",
      "          W_poi_norm         0.02917         0.02517         1.15914         0.24640\n",
      "------------------------------------------------------------------------------------\n",
      "\n",
      "CONFUSION MATRIX\n",
      "                          Positive (1)      Negative (0)   \n",
      "Observed                      29             9091           \n",
      "Predicted                     0              9120           \n",
      "Correctly Predicted           0              9091           \n",
      "Wrongly Predicted             29             0              \n",
      "\n",
      "------------------------------------------------------------------------------------\n",
      "\n",
      "DIAGNOSTICS FOR SPATIAL DEPENDENCE\n",
      "TEST                          DF             VALUE           PROB\n",
      "Kelejian-Prucha (error)       1             -0.478           0.6329\n",
      "Pinkse (error)                1              1.055           0.3044\n",
      "Pinkse-Slade (error)          1              0.089           0.7657\n",
      "\n",
      "================================ END OF REPORT =====================================\n",
      "2025-09-17 16:26:43 - terrawatt.models.terrawatt.SLXProbitModel - INFO - Model coefficients saved to out/model_coefficients.csv\n",
      "2025-09-17 16:26:43 - terrawatt.models.terrawatt.SLXProbitModel - INFO - Performing diagnostic tests...\n",
      "2025-09-17 16:26:45 - terrawatt.models.terrawatt.SLXProbitModel - INFO - Observed Moran's I: -0.0055\n",
      "2025-09-17 16:26:45 - terrawatt.models.terrawatt.SLXProbitModel - INFO - Expected I under null: -0.0001\n",
      "2025-09-17 16:26:45 - terrawatt.models.terrawatt.SLXProbitModel - INFO - p-value: 0.0036\n",
      "2025-09-17 16:26:45 - terrawatt.models.terrawatt.SLXProbitModel - INFO - Result: Significant spatial autocorrelation in residuals (Reject H0).\n",
      "2025-09-17 16:26:45 - terrawatt.models.terrawatt.SLXProbitModel - INFO - Diagnostics saved to out/diagnostics.csv\n",
      "2025-09-17 16:26:45 - terrawatt.models.terrawatt.SLXProbitModel - INFO - Moran's I distribution plot saved to out/moran_distribution.png\n",
      "2025-09-17 16:26:45 - terrawatt.models.terrawatt.SLXProbitModel - INFO - SLX Probit model evaluation complete.\n",
      "2025-09-17 16:26:45 - terrawatt.models.terrawatt.SLXProbitModel - INFO - Check diagnostics for model adequacy and spatial autocorrelation tests.\n"
     ]
    }
   ],
   "source": [
    "slx._train()\n",
    "slx._evaluate()"
   ]
  }
 ],
 "metadata": {
  "kernelspec": {
   "display_name": "Python 3 (ipykernel)",
   "language": "python",
   "name": "python3"
  },
  "language_info": {
   "codemirror_mode": {
    "name": "ipython",
    "version": 3
   },
   "file_extension": ".py",
   "mimetype": "text/x-python",
   "name": "python",
   "nbconvert_exporter": "python",
   "pygments_lexer": "ipython3",
   "version": "3.12.3"
  }
 },
 "nbformat": 4,
 "nbformat_minor": 2
}
