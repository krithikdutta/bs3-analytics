{
 "cells": [
  {
   "cell_type": "code",
   "execution_count": 2,
   "metadata": {},
   "outputs": [],
   "source": [
    "from terrawatt.models.probit import ProbitModel"
   ]
  },
  {
   "cell_type": "code",
   "execution_count": 3,
   "metadata": {},
   "outputs": [
    {
     "name": "stderr",
     "output_type": "stream",
     "text": [
      "2025-09-14 16:31:28,184 - INFO - Probit Model initialized\n",
      "2025-09-14 16:31:28,184 - INFO - Loading data...\n",
      "2025-09-14 16:31:28,209 - INFO - X data shape: (9120, 22), Y data shape: (9120, 8)\n",
      "2025-09-14 16:31:28,213 - INFO - Merged data shape: (9120, 15)\n",
      "2025-09-14 16:31:28,214 - INFO - Binary target distribution (0s, 1s): [9091   29]\n",
      "2025-09-14 16:31:28,214 - INFO - Building spatial weights matrix...\n",
      "2025-09-14 16:31:28,847 - INFO - Spatial weights created (queen): 9120 obs, 9120.00 total weights\n",
      "2025-09-14 16:31:28,848 - INFO - Creating features...\n",
      "2025-09-14 16:31:28,850 - INFO - Filled 0 NaNs in 'ndbi_mean' using median.\n",
      "2025-09-14 16:31:28,851 - INFO - Filled 0 NaNs in 'ghi_mean' using median.\n",
      "2025-09-14 16:31:28,852 - INFO - Final feature matrix shape: (9120, 5)\n",
      "2025-09-14 16:31:28,854 - INFO - Creating 5 spatial folds using KMeans clustering...\n",
      "2025-09-14 16:31:28,873 - INFO - Fold sizes: [1704 1840 1846 2055 1675]\n",
      "2025-09-14 16:31:28,875 - INFO - Training Logit model using statsmodels...\n",
      "2025-09-14 16:31:28,875 - INFO - Processing fold 1/5...\n",
      "2025-09-14 16:31:28,900 - INFO -   Fold 1 LogLoss: 0.0044 Accuracy: 0.9994\n",
      "2025-09-14 16:31:28,942 - INFO - Processing fold 2/5...\n",
      "2025-09-14 16:31:28,967 - INFO -   Fold 2 LogLoss: 0.0079 Accuracy: 0.9989\n",
      "2025-09-14 16:31:29,012 - INFO - Processing fold 3/5...\n",
      "2025-09-14 16:31:29,035 - INFO -   Fold 3 LogLoss: 0.0132 Accuracy: 0.9984\n",
      "2025-09-14 16:31:29,080 - INFO - Processing fold 4/5...\n",
      "2025-09-14 16:31:29,104 - INFO -   Fold 4 LogLoss: 0.0386 Accuracy: 0.9932\n",
      "2025-09-14 16:31:29,155 - INFO - Processing fold 5/5...\n",
      "2025-09-14 16:31:29,180 - INFO -   Fold 5 LogLoss: 0.0277 Accuracy: 0.9946\n",
      "2025-09-14 16:31:29,233 - INFO - Cross-validation scores: [{'Accuracy': 0.9994131455399061, 'LogLoss': 0.004426486719064405}, {'Accuracy': 0.9989130434782608, 'LogLoss': 0.007901959366503255}, {'Accuracy': 0.9983748645720477, 'LogLoss': 0.013182837045674245}, {'Accuracy': 0.9931873479318735, 'LogLoss': 0.03857694089770909}, {'Accuracy': 0.9946268656716418, 'LogLoss': 0.027746947815389333}]\n",
      "2025-09-14 16:31:29,259 - INFO - Model training complete.\n",
      "2025-09-14 16:31:29,265 - INFO - \n",
      "Model Summary:\n",
      "                 Generalized Linear Model Regression Results                  \n",
      "==============================================================================\n",
      "Dep. Variable:                      y   No. Observations:                 9120\n",
      "Model:                            GLM   Df Residuals:                     9114\n",
      "Model Family:                Binomial   Df Model:                            5\n",
      "Link Function:                 probit   Scale:                          1.0000\n",
      "Method:                          IRLS   Log-Likelihood:                -162.44\n",
      "Date:                Sun, 14 Sep 2025   Deviance:                       324.89\n",
      "Time:                        16:31:29   Pearson chi2:                 4.96e+03\n",
      "No. Iterations:                    11   Pseudo R-squ. (CS):           0.007273\n",
      "Covariance Type:            nonrobust                                         \n",
      "=====================================================================================\n",
      "                        coef    std err          z      P>|z|      [0.025      0.975]\n",
      "-------------------------------------------------------------------------------------\n",
      "const                -3.5145      0.564     -6.231      0.000      -4.620      -2.409\n",
      "ndbi_mean            -0.5095      0.852     -0.598      0.550      -2.180       1.161\n",
      "ntl_mean              2.6834      0.478      5.615      0.000       1.747       3.620\n",
      "ghi_mean              0.2878      0.410      0.702      0.483      -0.516       1.092\n",
      "road_density_norm     0.6593      0.771      0.856      0.392      -0.851       2.170\n",
      "poi_norm              1.7359      0.728      2.383      0.017       0.308       3.164\n",
      "=====================================================================================\n",
      "2025-09-14 16:31:29,269 - INFO - Model coefficients saved to out/model_coefficients.csv\n",
      "2025-09-14 16:31:29,296 - INFO - Predictions saved to out/predictions.csv\n",
      "2025-09-14 16:31:29,297 - INFO - Performing diagnostic tests...\n",
      "2025-09-14 16:31:30,730 - INFO - Observed Moran's I: 0.0008020446381069639\n",
      "2025-09-14 16:31:30,730 - INFO - Expected I under null: -0.0001096611470555982\n",
      "2025-09-14 16:31:30,731 - INFO - p-value: 0.216\n",
      "2025-09-14 16:31:30,731 - INFO - Result: No significant spatial autocorrelation (Fail to reject H0).\n",
      "2025-09-14 16:31:31,043 - INFO - Moran's I distribution plot saved to out/diagnostic_plots/moran_distribution.png\n",
      "2025-09-14 16:31:31,050 - INFO - Classification report saved to out/evaluation_report.csv\n"
     ]
    },
    {
     "data": {
      "text/plain": [
       "True"
      ]
     },
     "execution_count": 3,
     "metadata": {},
     "output_type": "execute_result"
    }
   ],
   "source": [
    "logit = ProbitModel(config_path='terrawatt/configs/probit.yaml')\n",
    "logit.run_model()"
   ]
  }
 ],
 "metadata": {
  "kernelspec": {
   "display_name": "Python 3 (ipykernel)",
   "language": "python",
   "name": "python3"
  }
 },
 "nbformat": 4,
 "nbformat_minor": 2
}
