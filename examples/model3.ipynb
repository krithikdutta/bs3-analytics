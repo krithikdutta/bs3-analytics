{
 "cells": [
  {
   "cell_type": "code",
   "execution_count": 1,
   "metadata": {},
   "outputs": [],
   "source": [
    "from terrawatt.models.probit import ProbitModel"
   ]
  },
  {
   "cell_type": "code",
   "execution_count": 2,
   "metadata": {},
   "outputs": [
    {
     "name": "stderr",
     "output_type": "stream",
     "text": [
      "2025-09-15 17:25:51 - terrawatt.models.terrawatt.ProbitModel - INFO - --- Logging initialized ---\n",
      "2025-09-15 17:25:51 - terrawatt.models.terrawatt.ProbitModel - INFO - Model: Probit_v1 initialized\n",
      "2025-09-15 17:25:51 - terrawatt.models.terrawatt.ProbitModel - INFO - Loading data from X: data/BLR_X_normalized.csv, y: data/BLR_Y.csv\n",
      "2025-09-15 17:25:51 - terrawatt.models.terrawatt.ProbitModel - INFO - Loaded X: (9120, 22), Y: (9120, 8)\n",
      "2025-09-15 17:25:51 - terrawatt.models.terrawatt.ProbitModel - INFO - Merged dataset shape: (9120, 15)\n",
      "2025-09-15 17:25:51 - terrawatt.models.terrawatt.ProbitModel - INFO - Creating features...\n",
      "2025-09-15 17:25:51 - terrawatt.models.terrawatt.ProbitModel - INFO - Binary target distribution - 0s: 9091, 1s: 29\n",
      "2025-09-15 17:25:51 - terrawatt.models.terrawatt.ProbitModel - WARNING - Severe class imbalance detected. Minority class ratio: 0.003\n",
      "2025-09-15 17:25:51 - terrawatt.models.terrawatt.ProbitModel - INFO - Building spatial weights matrix...\n",
      "2025-09-15 17:25:52 - terrawatt.models.terrawatt.ProbitModel - INFO - Creating spatial weights using 'queen' contiguity...\n",
      "2025-09-15 17:25:52 - terrawatt.models.terrawatt.ProbitModel - INFO - Creating feature matrix...\n",
      "2025-09-15 17:25:52 - terrawatt.models.terrawatt.ProbitModel - INFO - Applying imputation using method: median\n",
      "2025-09-15 17:25:52 - terrawatt.models.terrawatt.ProbitModel - INFO - Imputing 6 missing values in column 'ndbi_mean'\n",
      "2025-09-15 17:25:52 - terrawatt.models.terrawatt.ProbitModel - INFO - Imputing 43 missing values in column 'ghi_mean'\n",
      "2025-09-15 17:25:52 - terrawatt.models.terrawatt.ProbitModel - INFO - No spatial lagging applied as lag_order < 1\n",
      "2025-09-15 17:25:52 - terrawatt.models.terrawatt.ProbitModel - INFO - Final feature matrix shape: (9120, 5)\n",
      "2025-09-15 17:25:52 - terrawatt.models.terrawatt.ProbitModel - INFO - Feature columns: ['ndbi_mean', 'ntl_mean', 'ghi_mean', 'road_density_norm', 'poi_norm']\n",
      "2025-09-15 17:25:52 - terrawatt.models.terrawatt.ProbitModel - INFO - Creating 5 spatial folds using KMeans clustering...\n",
      "2025-09-15 17:25:52 - terrawatt.models.terrawatt.ProbitModel - INFO - Fold sizes: [1704 1840 1846 2055 1675]\n",
      "2025-09-15 17:25:52 - terrawatt.models.terrawatt.ProbitModel - INFO - Training Logit model using statsmodels...\n",
      "2025-09-15 17:25:52 - terrawatt.models.terrawatt.ProbitModel - INFO - Processing fold 1/5...\n",
      "2025-09-15 17:25:52 - terrawatt.models.terrawatt.ProbitModel - INFO -   Fold 1 LogLoss: 0.0044 Accuracy: 0.9994\n",
      "2025-09-15 17:25:52 - terrawatt.models.terrawatt.ProbitModel - INFO - Processing fold 2/5...\n",
      "2025-09-15 17:25:52 - terrawatt.models.terrawatt.ProbitModel - INFO -   Fold 2 LogLoss: 0.0079 Accuracy: 0.9989\n",
      "2025-09-15 17:25:52 - terrawatt.models.terrawatt.ProbitModel - INFO - Processing fold 3/5...\n",
      "2025-09-15 17:25:52 - terrawatt.models.terrawatt.ProbitModel - INFO -   Fold 3 LogLoss: 0.0132 Accuracy: 0.9984\n",
      "2025-09-15 17:25:52 - terrawatt.models.terrawatt.ProbitModel - INFO - Processing fold 4/5...\n",
      "2025-09-15 17:25:52 - terrawatt.models.terrawatt.ProbitModel - INFO -   Fold 4 LogLoss: 0.0386 Accuracy: 0.9932\n",
      "2025-09-15 17:25:52 - terrawatt.models.terrawatt.ProbitModel - INFO - Processing fold 5/5...\n",
      "2025-09-15 17:25:52 - terrawatt.models.terrawatt.ProbitModel - INFO -   Fold 5 LogLoss: 0.0277 Accuracy: 0.9946\n",
      "2025-09-15 17:25:52 - terrawatt.models.terrawatt.ProbitModel - INFO - Cross-validation scores: [{'Accuracy': 0.9994131455399061, 'LogLoss': 0.004426486719064405}, {'Accuracy': 0.9989130434782608, 'LogLoss': 0.007901959366503255}, {'Accuracy': 0.9983748645720477, 'LogLoss': 0.013182837045674245}, {'Accuracy': 0.9931873479318735, 'LogLoss': 0.03857694089770909}, {'Accuracy': 0.9946268656716418, 'LogLoss': 0.027746947815389333}]\n",
      "2025-09-15 17:25:52 - terrawatt.models.terrawatt.ProbitModel - INFO - Model training complete.\n",
      "2025-09-15 17:25:52 - terrawatt.models.terrawatt.ProbitModel - INFO - \n",
      "Model Summary:\n",
      "                 Generalized Linear Model Regression Results                  \n",
      "==============================================================================\n",
      "Dep. Variable:                      y   No. Observations:                 9120\n",
      "Model:                            GLM   Df Residuals:                     9114\n",
      "Model Family:                Binomial   Df Model:                            5\n",
      "Link Function:                 probit   Scale:                          1.0000\n",
      "Method:                          IRLS   Log-Likelihood:                -162.44\n",
      "Date:                Mon, 15 Sep 2025   Deviance:                       324.89\n",
      "Time:                        17:25:52   Pearson chi2:                 4.96e+03\n",
      "No. Iterations:                    11   Pseudo R-squ. (CS):           0.007273\n",
      "Covariance Type:            nonrobust                                         \n",
      "=====================================================================================\n",
      "                        coef    std err          z      P>|z|      [0.025      0.975]\n",
      "-------------------------------------------------------------------------------------\n",
      "const                -3.5145      0.564     -6.231      0.000      -4.620      -2.409\n",
      "ndbi_mean            -0.5095      0.852     -0.598      0.550      -2.180       1.161\n",
      "ntl_mean              2.6834      0.478      5.615      0.000       1.747       3.620\n",
      "ghi_mean              0.2878      0.410      0.702      0.483      -0.516       1.092\n",
      "road_density_norm     0.6593      0.771      0.856      0.392      -0.851       2.170\n",
      "poi_norm              1.7359      0.728      2.383      0.017       0.308       3.164\n",
      "=====================================================================================\n",
      "2025-09-15 17:25:52 - terrawatt.models.terrawatt.ProbitModel - INFO - Model coefficients saved to out/model_coefficients.csv\n",
      "2025-09-15 17:25:52 - terrawatt.models.terrawatt.ProbitModel - INFO - Predictions saved to out/predictions.csv\n",
      "2025-09-15 17:25:52 - terrawatt.models.terrawatt.ProbitModel - INFO - Performing diagnostic tests...\n",
      "2025-09-15 17:25:54 - terrawatt.models.terrawatt.ProbitModel - INFO - Observed Moran's I: 0.0008020446381069639\n",
      "2025-09-15 17:25:54 - terrawatt.models.terrawatt.ProbitModel - INFO - Expected I under null: -0.0001096611470555982\n",
      "2025-09-15 17:25:54 - terrawatt.models.terrawatt.ProbitModel - INFO - p-value: 0.2316\n",
      "2025-09-15 17:25:54 - terrawatt.models.terrawatt.ProbitModel - INFO - Result: No significant spatial autocorrelation (Fail to reject H0).\n",
      "2025-09-15 17:25:54 - terrawatt.models.terrawatt.ProbitModel - INFO - Moran's I distribution plot saved to out/diagnostic_plots/moran_distribution.png\n",
      "2025-09-15 17:25:54 - terrawatt.models.terrawatt.ProbitModel - INFO - Classification report saved to out/evaluation_report.csv\n"
     ]
    }
   ],
   "source": [
    "probit = ProbitModel(config_path='terrawatt/configs/probit.yaml')\n",
    "probit.run()"
   ]
  }
 ],
 "metadata": {
  "kernelspec": {
   "display_name": "Python 3 (ipykernel)",
   "language": "python",
   "name": "python3"
  },
  "language_info": {
   "codemirror_mode": {
    "name": "ipython",
    "version": 3
   },
   "file_extension": ".py",
   "mimetype": "text/x-python",
   "name": "python",
   "nbconvert_exporter": "python",
   "pygments_lexer": "ipython3",
   "version": "3.12.3"
  }
 },
 "nbformat": 4,
 "nbformat_minor": 2
}
