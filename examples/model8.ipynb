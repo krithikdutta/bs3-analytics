{
 "cells": [
  {
   "cell_type": "code",
   "execution_count": 1,
   "metadata": {},
   "outputs": [],
   "source": [
    "from terrawatt.models.vae import SpatialVAEModel"
   ]
  },
  {
   "cell_type": "code",
   "execution_count": 2,
   "metadata": {},
   "outputs": [
    {
     "name": "stderr",
     "output_type": "stream",
     "text": [
      "2025-09-17 15:49:12 - terrawatt.models.terrawatt.SpatialVAEModel - INFO - --- Logging initialized ---\n",
      "2025-09-17 15:49:12 - terrawatt.models.terrawatt.SpatialVAEModel - INFO - Model: NN_v1 initialized\n"
     ]
    }
   ],
   "source": [
    "vae = SpatialVAEModel(config_path='terrawatt/configs/vae.yaml')"
   ]
  },
  {
   "cell_type": "code",
   "execution_count": 3,
   "metadata": {},
   "outputs": [
    {
     "name": "stderr",
     "output_type": "stream",
     "text": [
      "2025-09-17 15:49:15 - terrawatt.models.terrawatt.SpatialVAEModel - INFO - Loading test data from X: data/RPR_X_normalized.csv\n",
      "2025-09-17 15:49:15 - terrawatt.models.terrawatt.SpatialVAEModel - INFO - Loading validation data from X: data/DEL_X_normalized.csv, y: data/DEL_Y.csv\n",
      "2025-09-17 15:49:15 - terrawatt.models.terrawatt.SpatialVAEModel - INFO - Loaded test X: (11957, 26)\n",
      "2025-09-17 15:49:15 - terrawatt.models.terrawatt.SpatialVAEModel - INFO - Creating features...\n",
      "2025-09-17 15:49:15 - terrawatt.models.terrawatt.SpatialVAEModel - INFO - No target variable found; proceeding without target.\n",
      "2025-09-17 15:49:15 - terrawatt.models.terrawatt.SpatialVAEModel - INFO - Building spatial weights matrix...\n",
      "2025-09-17 15:49:15 - terrawatt.models.terrawatt.SpatialVAEModel - INFO - Creating spatial weights using 'knn' contiguity...\n",
      "2025-09-17 15:49:15 - terrawatt.models.terrawatt.SpatialVAEModel - INFO - Creating feature matrix...\n",
      "2025-09-17 15:49:15 - terrawatt.models.terrawatt.SpatialVAEModel - INFO - Applying imputation using method: median\n",
      "2025-09-17 15:49:15 - terrawatt.models.terrawatt.SpatialVAEModel - INFO - Imputing 4 missing values in column 'ndbi_mean'\n",
      "2025-09-17 15:49:15 - terrawatt.models.terrawatt.SpatialVAEModel - INFO - Imputing 44 missing values in column 'ghi_mean'\n",
      "2025-09-17 15:49:15 - terrawatt.models.terrawatt.SpatialVAEModel - INFO - Creating spatially lagged features...\n",
      "2025-09-17 15:49:15 - terrawatt.models.terrawatt.SpatialVAEModel - INFO - Final feature matrix shape: (11957, 10)\n",
      "2025-09-17 15:49:15 - terrawatt.models.terrawatt.SpatialVAEModel - INFO - Feature columns: ['ndbi_mean', 'ntl_mean', 'ghi_mean', 'road_density_norm', 'poi_norm']\n",
      "2025-09-17 15:49:15 - terrawatt.models.terrawatt.SpatialVAEModel - INFO - Loaded validation X: (6191, 25), Y: (6191, 8)\n",
      "2025-09-17 15:49:15 - terrawatt.models.terrawatt.SpatialVAEModel - INFO - Merged validation dataset shape: (6191, 15)\n",
      "2025-09-17 15:49:15 - terrawatt.models.terrawatt.SpatialVAEModel - INFO - Creating features...\n",
      "2025-09-17 15:49:15 - terrawatt.models.terrawatt.SpatialVAEModel - INFO - Binary target distribution - 0s: 6164, 1s: 27\n",
      "2025-09-17 15:49:15 - terrawatt.models.terrawatt.SpatialVAEModel - WARNING - Severe class imbalance detected. Minority class ratio: 0.004\n",
      "2025-09-17 15:49:15 - terrawatt.models.terrawatt.SpatialVAEModel - INFO - Building spatial weights matrix...\n",
      "2025-09-17 15:49:15 - terrawatt.models.terrawatt.SpatialVAEModel - INFO - Creating spatial weights using 'knn' contiguity...\n",
      "2025-09-17 15:49:15 - terrawatt.models.terrawatt.SpatialVAEModel - INFO - Creating feature matrix...\n",
      "2025-09-17 15:49:15 - terrawatt.models.terrawatt.SpatialVAEModel - INFO - Applying imputation using method: median\n",
      "2025-09-17 15:49:15 - terrawatt.models.terrawatt.SpatialVAEModel - INFO - Creating spatially lagged features...\n",
      "2025-09-17 15:49:16 - terrawatt.models.terrawatt.SpatialVAEModel - INFO - Final feature matrix shape: (6191, 10)\n",
      "2025-09-17 15:49:16 - terrawatt.models.terrawatt.SpatialVAEModel - INFO - Feature columns: ['ndbi_mean', 'ntl_mean', 'ghi_mean', 'road_density_norm', 'poi_norm']\n"
     ]
    }
   ],
   "source": [
    "vae._load_test_validation_data()"
   ]
  },
  {
   "cell_type": "code",
   "execution_count": null,
   "metadata": {},
   "outputs": [
    {
     "name": "stderr",
     "output_type": "stream",
     "text": [
      "2025-09-17 15:49:18 - terrawatt.models.terrawatt.SpatialVAEModel - INFO - Loading data from X: data/BLR_X_normalized.csv, y: data/BLR_Y.csv\n",
      "2025-09-17 15:49:18 - terrawatt.models.terrawatt.SpatialVAEModel - INFO - Loaded X: (9120, 25), Y: (9120, 8)\n",
      "2025-09-17 15:49:18 - terrawatt.models.terrawatt.SpatialVAEModel - INFO - Merged dataset shape: (9120, 15)\n",
      "2025-09-17 15:49:18 - terrawatt.models.terrawatt.SpatialVAEModel - INFO - Creating features...\n",
      "2025-09-17 15:49:18 - terrawatt.models.terrawatt.SpatialVAEModel - INFO - Binary target distribution - 0s: 9091, 1s: 29\n",
      "2025-09-17 15:49:18 - terrawatt.models.terrawatt.SpatialVAEModel - WARNING - Severe class imbalance detected. Minority class ratio: 0.003\n",
      "2025-09-17 15:49:18 - terrawatt.models.terrawatt.SpatialVAEModel - INFO - Building spatial weights matrix...\n",
      "2025-09-17 15:49:18 - terrawatt.models.terrawatt.SpatialVAEModel - INFO - Creating spatial weights using 'knn' contiguity...\n",
      "2025-09-17 15:49:18 - terrawatt.models.terrawatt.SpatialVAEModel - INFO - Creating feature matrix...\n",
      "2025-09-17 15:49:18 - terrawatt.models.terrawatt.SpatialVAEModel - INFO - Applying imputation using method: median\n",
      "2025-09-17 15:49:18 - terrawatt.models.terrawatt.SpatialVAEModel - INFO - Imputing 6 missing values in column 'ndbi_mean'\n",
      "2025-09-17 15:49:18 - terrawatt.models.terrawatt.SpatialVAEModel - INFO - Imputing 43 missing values in column 'ghi_mean'\n",
      "2025-09-17 15:49:18 - terrawatt.models.terrawatt.SpatialVAEModel - INFO - Creating spatially lagged features...\n",
      "2025-09-17 15:49:18 - terrawatt.models.terrawatt.SpatialVAEModel - INFO - Final feature matrix shape: (9120, 10)\n",
      "2025-09-17 15:49:18 - terrawatt.models.terrawatt.SpatialVAEModel - INFO - Feature columns: ['ndbi_mean', 'ntl_mean', 'ghi_mean', 'road_density_norm', 'poi_norm']\n",
      "2025-09-17 15:49:18 - terrawatt.models.terrawatt.SpatialVAEModel - INFO - Starting VAE model training...\n",
      "2025-09-17 15:49:21 - terrawatt.models.terrawatt.SpatialVAEModel - INFO - Epoch 10/50, Loss: 265.7192\n",
      "2025-09-17 15:49:23 - terrawatt.models.terrawatt.SpatialVAEModel - INFO - Epoch 20/50, Loss: 201.9534\n",
      "2025-09-17 15:49:25 - terrawatt.models.terrawatt.SpatialVAEModel - INFO - Epoch 30/50, Loss: 225.8384\n",
      "2025-09-17 15:49:28 - terrawatt.models.terrawatt.SpatialVAEModel - INFO - Epoch 40/50, Loss: 194.1140\n",
      "2025-09-17 15:49:30 - terrawatt.models.terrawatt.SpatialVAEModel - INFO - Epoch 50/50, Loss: 191.1159\n",
      "2025-09-17 15:49:30 - terrawatt.models.terrawatt.SpatialVAEModel - INFO - VAE model training complete.\n",
      "2025-09-17 15:49:30 - terrawatt.models.terrawatt.SpatialVAEModel - INFO - Evaluating VAE model performance on validation data...\n",
      "2025-09-17 15:49:30 - terrawatt.models.terrawatt.SpatialVAEModel - INFO - Evaluation Metrics:\n",
      "2025-09-17 15:49:30 - terrawatt.models.terrawatt.SpatialVAEModel - INFO -   ROC-AUC: 0.5914\n",
      "2025-09-17 15:49:30 - terrawatt.models.terrawatt.SpatialVAEModel - INFO -   PR-AUC: 0.0081\n",
      "2025-09-17 15:49:30 - terrawatt.models.terrawatt.SpatialVAEModel - INFO -   Precision (Validation): 0.0161\n",
      "2025-09-17 15:49:30 - terrawatt.models.terrawatt.SpatialVAEModel - INFO -   Recall (Validation): 0.1852\n",
      "2025-09-17 15:49:30 - terrawatt.models.terrawatt.SpatialVAEModel - INFO -   F1-Score (Validation): 0.0297\n",
      "2025-09-17 15:49:30 - terrawatt.models.terrawatt.SpatialVAEModel - INFO -   Confusion Matrix:\n",
      "[[5859, 305], [22, 5]]\n"
     ]
    },
    {
     "data": {
      "text/plain": [
       "{'anomaly_scores': None,\n",
       " 'metrics': ModelMetrics(pr_auc=0.008060645131304289, brier_score=nan, log_loss=nan, precision=0.016129032258064516, recall=0.18518518518518517, f1_score=0.02967359050445104, confusion_matrix=[[5859, 305], [22, 5]], classification_report=\"{'0': {'precision': 0.9962591396021084, 'recall': 0.950519143413368, 'f1-score': 0.972851805728518, 'support': 6164.0}, '1': {'precision': 0.016129032258064516, 'recall': 0.18518518518518517, 'f1-score': 0.02967359050445104, 'support': 27.0}, 'accuracy': 0.9471813923437248, 'macro avg': {'precision': 0.5061940859300865, 'recall': 0.5678521642992765, 'f1-score': 0.5012626981164845, 'support': 6191.0}, 'weighted avg': {'precision': 0.9919846261312169, 'recall': 0.9471813923437248, 'f1-score': 0.9687384457202723, 'support': 6191.0}}\"),\n",
       " 'success': True}"
      ]
     },
     "execution_count": 4,
     "metadata": {},
     "output_type": "execute_result"
    }
   ],
   "source": [
    "preds = vae.run()"
   ]
  },
  {
   "cell_type": "code",
   "execution_count": 5,
   "metadata": {},
   "outputs": [
    {
     "name": "stderr",
     "output_type": "stream",
     "text": [
      "2025-09-17 15:49:40 - terrawatt.models.terrawatt.SpatialVAEModel - INFO - Making anomaly predictions...\n",
      "2025-09-17 15:49:40 - terrawatt.models.terrawatt.SpatialVAEModel - INFO - Predictions saved to out/predictions.csv\n"
     ]
    },
    {
     "data": {
      "text/html": [
       "<div>\n",
       "<style scoped>\n",
       "    .dataframe tbody tr th:only-of-type {\n",
       "        vertical-align: middle;\n",
       "    }\n",
       "\n",
       "    .dataframe tbody tr th {\n",
       "        vertical-align: top;\n",
       "    }\n",
       "\n",
       "    .dataframe thead th {\n",
       "        text-align: right;\n",
       "    }\n",
       "</style>\n",
       "<table border=\"1\" class=\"dataframe\">\n",
       "  <thead>\n",
       "    <tr style=\"text-align: right;\">\n",
       "      <th></th>\n",
       "      <th>id</th>\n",
       "      <th>anomaly_score</th>\n",
       "    </tr>\n",
       "  </thead>\n",
       "  <tbody>\n",
       "    <tr>\n",
       "      <th>0</th>\n",
       "      <td>72</td>\n",
       "      <td>0.310814</td>\n",
       "    </tr>\n",
       "    <tr>\n",
       "      <th>1</th>\n",
       "      <td>73</td>\n",
       "      <td>0.021423</td>\n",
       "    </tr>\n",
       "    <tr>\n",
       "      <th>2</th>\n",
       "      <td>74</td>\n",
       "      <td>0.026034</td>\n",
       "    </tr>\n",
       "    <tr>\n",
       "      <th>3</th>\n",
       "      <td>75</td>\n",
       "      <td>0.089912</td>\n",
       "    </tr>\n",
       "    <tr>\n",
       "      <th>4</th>\n",
       "      <td>76</td>\n",
       "      <td>0.359000</td>\n",
       "    </tr>\n",
       "    <tr>\n",
       "      <th>...</th>\n",
       "      <td>...</td>\n",
       "      <td>...</td>\n",
       "    </tr>\n",
       "    <tr>\n",
       "      <th>11952</th>\n",
       "      <td>20576</td>\n",
       "      <td>0.163571</td>\n",
       "    </tr>\n",
       "    <tr>\n",
       "      <th>11953</th>\n",
       "      <td>20577</td>\n",
       "      <td>0.269201</td>\n",
       "    </tr>\n",
       "    <tr>\n",
       "      <th>11954</th>\n",
       "      <td>20726</td>\n",
       "      <td>0.541678</td>\n",
       "    </tr>\n",
       "    <tr>\n",
       "      <th>11955</th>\n",
       "      <td>20727</td>\n",
       "      <td>0.492803</td>\n",
       "    </tr>\n",
       "    <tr>\n",
       "      <th>11956</th>\n",
       "      <td>20728</td>\n",
       "      <td>0.472911</td>\n",
       "    </tr>\n",
       "  </tbody>\n",
       "</table>\n",
       "<p>11957 rows × 2 columns</p>\n",
       "</div>"
      ],
      "text/plain": [
       "          id  anomaly_score\n",
       "0         72       0.310814\n",
       "1         73       0.021423\n",
       "2         74       0.026034\n",
       "3         75       0.089912\n",
       "4         76       0.359000\n",
       "...      ...            ...\n",
       "11952  20576       0.163571\n",
       "11953  20577       0.269201\n",
       "11954  20726       0.541678\n",
       "11955  20727       0.492803\n",
       "11956  20728       0.472911\n",
       "\n",
       "[11957 rows x 2 columns]"
      ]
     },
     "execution_count": 5,
     "metadata": {},
     "output_type": "execute_result"
    }
   ],
   "source": [
    "vae.predict()"
   ]
  },
  {
   "cell_type": "code",
   "execution_count": null,
   "metadata": {},
   "outputs": [
    {
     "ename": "AttributeError",
     "evalue": "'Dataset' object has no attribute '_anomaly_scores'",
     "output_type": "error",
     "traceback": [
      "\u001b[31m---------------------------------------------------------------------------\u001b[39m",
      "\u001b[31mAttributeError\u001b[39m                            Traceback (most recent call last)",
      "\u001b[36mCell\u001b[39m\u001b[36m \u001b[39m\u001b[32mIn[8]\u001b[39m\u001b[32m, line 1\u001b[39m\n\u001b[32m----> \u001b[39m\u001b[32m1\u001b[39m \u001b[43mvae\u001b[49m\u001b[43m.\u001b[49m\u001b[43mvalidation\u001b[49m\u001b[43m.\u001b[49m\u001b[43m_anomaly_scores\u001b[49m\n",
      "\u001b[31mAttributeError\u001b[39m: 'Dataset' object has no attribute '_anomaly_scores'"
     ]
    }
   ],
   "source": []
  }
 ],
 "metadata": {
  "kernelspec": {
   "display_name": "Python 3 (ipykernel)",
   "language": "python",
   "name": "python3"
  },
  "language_info": {
   "codemirror_mode": {
    "name": "ipython",
    "version": 3
   },
   "file_extension": ".py",
   "mimetype": "text/x-python",
   "name": "python",
   "nbconvert_exporter": "python",
   "pygments_lexer": "ipython3",
   "version": "3.12.3"
  }
 },
 "nbformat": 4,
 "nbformat_minor": 2
}
