{
 "cells": [
  {
   "cell_type": "code",
   "execution_count": 1,
   "metadata": {},
   "outputs": [],
   "source": [
    "from terrawatt.models.alt import SpatialVAEModel"
   ]
  },
  {
   "cell_type": "code",
   "execution_count": 2,
   "metadata": {},
   "outputs": [
    {
     "name": "stderr",
     "output_type": "stream",
     "text": [
      "2025-09-17 22:17:47 - terrawatt.models.terrawatt.SpatialVAEModel - INFO - --- Logging initialized ---\n",
      "2025-09-17 22:17:47 - terrawatt.models.terrawatt.SpatialVAEModel - INFO - Model: NN_v1 initialized\n"
     ]
    }
   ],
   "source": [
    "vae = SpatialVAEModel(config_path='terrawatt/configs/vae.yaml')"
   ]
  },
  {
   "cell_type": "code",
   "execution_count": 3,
   "metadata": {},
   "outputs": [
    {
     "name": "stderr",
     "output_type": "stream",
     "text": [
      "2025-09-17 22:17:47 - terrawatt.models.terrawatt.SpatialVAEModel - INFO - Loading test data from X: data/RPR_X_normalized.csv\n",
      "2025-09-17 22:17:47 - terrawatt.models.terrawatt.SpatialVAEModel - INFO - Loading validation data from X: data/DEL_X_normalized.csv, y: data/DEL_Y.csv\n",
      "2025-09-17 22:17:47 - terrawatt.models.terrawatt.SpatialVAEModel - INFO - Loaded test X: (11957, 26)\n",
      "2025-09-17 22:17:47 - terrawatt.models.terrawatt.SpatialVAEModel - INFO - Creating features...\n",
      "2025-09-17 22:17:47 - terrawatt.models.terrawatt.SpatialVAEModel - INFO - No target variable found; proceeding without target.\n",
      "2025-09-17 22:17:47 - terrawatt.models.terrawatt.SpatialVAEModel - INFO - Building spatial weights matrix...\n",
      "2025-09-17 22:17:48 - terrawatt.models.terrawatt.SpatialVAEModel - INFO - Creating spatial weights using 'knn' contiguity...\n",
      "2025-09-17 22:17:48 - terrawatt.models.terrawatt.SpatialVAEModel - INFO - Creating feature matrix...\n",
      "2025-09-17 22:17:48 - terrawatt.models.terrawatt.SpatialVAEModel - INFO - Applying imputation using method: median\n",
      "2025-09-17 22:17:48 - terrawatt.models.terrawatt.SpatialVAEModel - INFO - Imputing 4 missing values in column 'ndbi_mean'\n",
      "2025-09-17 22:17:48 - terrawatt.models.terrawatt.SpatialVAEModel - INFO - Imputing 44 missing values in column 'ghi_mean'\n",
      "2025-09-17 22:17:48 - terrawatt.models.terrawatt.SpatialVAEModel - INFO - Creating spatially lagged features...\n",
      "2025-09-17 22:17:48 - terrawatt.models.terrawatt.SpatialVAEModel - INFO - Final feature matrix shape: (11957, 10)\n",
      "2025-09-17 22:17:48 - terrawatt.models.terrawatt.SpatialVAEModel - INFO - Feature columns: ['ndbi_mean', 'ntl_mean', 'ghi_mean', 'road_density_norm', 'poi_norm']\n",
      "2025-09-17 22:17:48 - terrawatt.models.terrawatt.SpatialVAEModel - INFO - Loaded validation X: (6191, 25), Y: (6191, 8)\n",
      "2025-09-17 22:17:48 - terrawatt.models.terrawatt.SpatialVAEModel - INFO - Merged validation dataset shape: (6191, 15)\n",
      "2025-09-17 22:17:48 - terrawatt.models.terrawatt.SpatialVAEModel - INFO - Creating features...\n",
      "2025-09-17 22:17:48 - terrawatt.models.terrawatt.SpatialVAEModel - INFO - Binary target distribution - 0s: 6164, 1s: 27\n",
      "2025-09-17 22:17:48 - terrawatt.models.terrawatt.SpatialVAEModel - WARNING - Severe class imbalance detected. Minority class ratio: 0.004\n",
      "2025-09-17 22:17:48 - terrawatt.models.terrawatt.SpatialVAEModel - INFO - Building spatial weights matrix...\n",
      "2025-09-17 22:17:48 - terrawatt.models.terrawatt.SpatialVAEModel - INFO - Creating spatial weights using 'knn' contiguity...\n",
      "2025-09-17 22:17:48 - terrawatt.models.terrawatt.SpatialVAEModel - INFO - Creating feature matrix...\n",
      "2025-09-17 22:17:48 - terrawatt.models.terrawatt.SpatialVAEModel - INFO - Applying imputation using method: median\n",
      "2025-09-17 22:17:48 - terrawatt.models.terrawatt.SpatialVAEModel - INFO - Creating spatially lagged features...\n",
      "2025-09-17 22:17:48 - terrawatt.models.terrawatt.SpatialVAEModel - INFO - Final feature matrix shape: (6191, 10)\n",
      "2025-09-17 22:17:48 - terrawatt.models.terrawatt.SpatialVAEModel - INFO - Feature columns: ['ndbi_mean', 'ntl_mean', 'ghi_mean', 'road_density_norm', 'poi_norm']\n"
     ]
    }
   ],
   "source": [
    "vae._load_test_validation_data()"
   ]
  },
  {
   "cell_type": "code",
   "execution_count": 4,
   "metadata": {},
   "outputs": [
    {
     "name": "stderr",
     "output_type": "stream",
     "text": [
      "2025-09-17 22:17:48 - terrawatt.models.terrawatt.SpatialVAEModel - INFO - Loading data from X: data/BLR_X_normalized.csv, y: data/BLR_Y.csv\n",
      "2025-09-17 22:17:48 - terrawatt.models.terrawatt.SpatialVAEModel - INFO - Loaded X: (9120, 25), Y: (9120, 8)\n",
      "2025-09-17 22:17:48 - terrawatt.models.terrawatt.SpatialVAEModel - INFO - Merged dataset shape: (9120, 15)\n",
      "2025-09-17 22:17:48 - terrawatt.models.terrawatt.SpatialVAEModel - INFO - Creating features...\n",
      "2025-09-17 22:17:48 - terrawatt.models.terrawatt.SpatialVAEModel - INFO - Binary target distribution - 0s: 9091, 1s: 29\n",
      "2025-09-17 22:17:48 - terrawatt.models.terrawatt.SpatialVAEModel - WARNING - Severe class imbalance detected. Minority class ratio: 0.003\n",
      "2025-09-17 22:17:48 - terrawatt.models.terrawatt.SpatialVAEModel - INFO - Building spatial weights matrix...\n",
      "2025-09-17 22:17:49 - terrawatt.models.terrawatt.SpatialVAEModel - INFO - Creating spatial weights using 'knn' contiguity...\n",
      "2025-09-17 22:17:49 - terrawatt.models.terrawatt.SpatialVAEModel - INFO - Creating feature matrix...\n",
      "2025-09-17 22:17:49 - terrawatt.models.terrawatt.SpatialVAEModel - INFO - Applying imputation using method: median\n",
      "2025-09-17 22:17:49 - terrawatt.models.terrawatt.SpatialVAEModel - INFO - Imputing 6 missing values in column 'ndbi_mean'\n",
      "2025-09-17 22:17:49 - terrawatt.models.terrawatt.SpatialVAEModel - INFO - Imputing 43 missing values in column 'ghi_mean'\n",
      "2025-09-17 22:17:49 - terrawatt.models.terrawatt.SpatialVAEModel - INFO - Creating spatially lagged features...\n",
      "2025-09-17 22:17:49 - terrawatt.models.terrawatt.SpatialVAEModel - INFO - Final feature matrix shape: (9120, 10)\n",
      "2025-09-17 22:17:49 - terrawatt.models.terrawatt.SpatialVAEModel - INFO - Feature columns: ['ndbi_mean', 'ntl_mean', 'ghi_mean', 'road_density_norm', 'poi_norm']\n",
      "2025-09-17 22:17:49 - terrawatt.models.terrawatt.SpatialVAEModel - INFO - Starting VAE model training...\n",
      "2025-09-17 22:17:52 - terrawatt.models.terrawatt.SpatialVAEModel - INFO - Epoch 10/50, Loss: 88.4740\n",
      "2025-09-17 22:17:55 - terrawatt.models.terrawatt.SpatialVAEModel - INFO - Epoch 20/50, Loss: 96.8770\n",
      "2025-09-17 22:17:58 - terrawatt.models.terrawatt.SpatialVAEModel - INFO - Epoch 30/50, Loss: 88.6463\n",
      "2025-09-17 22:18:01 - terrawatt.models.terrawatt.SpatialVAEModel - INFO - Epoch 40/50, Loss: 97.4776\n",
      "2025-09-17 22:18:04 - terrawatt.models.terrawatt.SpatialVAEModel - INFO - Epoch 50/50, Loss: 82.7802\n",
      "2025-09-17 22:18:04 - terrawatt.models.terrawatt.SpatialVAEModel - INFO - VAE model training complete.\n",
      "2025-09-17 22:18:04 - terrawatt.models.terrawatt.SpatialVAEModel - INFO - Evaluating VAE model performance on validation data...\n",
      "2025-09-17 22:18:04 - terrawatt.models.terrawatt.SpatialVAEModel - INFO - Evaluation Metrics:\n",
      "2025-09-17 22:18:04 - terrawatt.models.terrawatt.SpatialVAEModel - INFO -   ROC-AUC: 0.5187\n",
      "2025-09-17 22:18:04 - terrawatt.models.terrawatt.SpatialVAEModel - INFO -   PR-AUC: 0.0045\n",
      "2025-09-17 22:18:04 - terrawatt.models.terrawatt.SpatialVAEModel - INFO -   Precision (Validation): 0.0000\n",
      "2025-09-17 22:18:04 - terrawatt.models.terrawatt.SpatialVAEModel - INFO -   Recall (Validation): 0.0000\n",
      "2025-09-17 22:18:04 - terrawatt.models.terrawatt.SpatialVAEModel - INFO -   F1-Score (Validation): 0.0000\n",
      "2025-09-17 22:18:04 - terrawatt.models.terrawatt.SpatialVAEModel - INFO -   Confusion Matrix:\n",
      "[[5854, 310], [27, 0]]\n"
     ]
    }
   ],
   "source": [
    "preds = vae.run()"
   ]
  },
  {
   "cell_type": "code",
   "execution_count": 5,
   "metadata": {},
   "outputs": [
    {
     "name": "stderr",
     "output_type": "stream",
     "text": [
      "2025-09-17 22:19:24 - terrawatt.models.terrawatt.SpatialVAEModel - INFO - Making anomaly predictions...\n",
      "2025-09-17 22:19:24 - terrawatt.models.terrawatt.SpatialVAEModel - INFO - Predictions saved to out/predictions.csv\n"
     ]
    },
    {
     "data": {
      "text/html": [
       "<div>\n",
       "<style scoped>\n",
       "    .dataframe tbody tr th:only-of-type {\n",
       "        vertical-align: middle;\n",
       "    }\n",
       "\n",
       "    .dataframe tbody tr th {\n",
       "        vertical-align: top;\n",
       "    }\n",
       "\n",
       "    .dataframe thead th {\n",
       "        text-align: right;\n",
       "    }\n",
       "</style>\n",
       "<table border=\"1\" class=\"dataframe\">\n",
       "  <thead>\n",
       "    <tr style=\"text-align: right;\">\n",
       "      <th></th>\n",
       "      <th>id</th>\n",
       "      <th>anomaly_score</th>\n",
       "      <th>scaled_anomaly_score</th>\n",
       "    </tr>\n",
       "  </thead>\n",
       "  <tbody>\n",
       "    <tr>\n",
       "      <th>0</th>\n",
       "      <td>72</td>\n",
       "      <td>0.753049</td>\n",
       "      <td>0.258246</td>\n",
       "    </tr>\n",
       "    <tr>\n",
       "      <th>1</th>\n",
       "      <td>73</td>\n",
       "      <td>0.054390</td>\n",
       "      <td>0.017620</td>\n",
       "    </tr>\n",
       "    <tr>\n",
       "      <th>2</th>\n",
       "      <td>74</td>\n",
       "      <td>0.037337</td>\n",
       "      <td>0.011747</td>\n",
       "    </tr>\n",
       "    <tr>\n",
       "      <th>3</th>\n",
       "      <td>75</td>\n",
       "      <td>0.026656</td>\n",
       "      <td>0.008069</td>\n",
       "    </tr>\n",
       "    <tr>\n",
       "      <th>4</th>\n",
       "      <td>76</td>\n",
       "      <td>0.645947</td>\n",
       "      <td>0.221359</td>\n",
       "    </tr>\n",
       "    <tr>\n",
       "      <th>...</th>\n",
       "      <td>...</td>\n",
       "      <td>...</td>\n",
       "      <td>...</td>\n",
       "    </tr>\n",
       "    <tr>\n",
       "      <th>11952</th>\n",
       "      <td>20576</td>\n",
       "      <td>0.295801</td>\n",
       "      <td>0.100765</td>\n",
       "    </tr>\n",
       "    <tr>\n",
       "      <th>11953</th>\n",
       "      <td>20577</td>\n",
       "      <td>0.135718</td>\n",
       "      <td>0.045631</td>\n",
       "    </tr>\n",
       "    <tr>\n",
       "      <th>11954</th>\n",
       "      <td>20726</td>\n",
       "      <td>0.344032</td>\n",
       "      <td>0.117376</td>\n",
       "    </tr>\n",
       "    <tr>\n",
       "      <th>11955</th>\n",
       "      <td>20727</td>\n",
       "      <td>0.163772</td>\n",
       "      <td>0.055293</td>\n",
       "    </tr>\n",
       "    <tr>\n",
       "      <th>11956</th>\n",
       "      <td>20728</td>\n",
       "      <td>0.532468</td>\n",
       "      <td>0.182275</td>\n",
       "    </tr>\n",
       "  </tbody>\n",
       "</table>\n",
       "<p>11957 rows × 3 columns</p>\n",
       "</div>"
      ],
      "text/plain": [
       "          id  anomaly_score  scaled_anomaly_score\n",
       "0         72       0.753049              0.258246\n",
       "1         73       0.054390              0.017620\n",
       "2         74       0.037337              0.011747\n",
       "3         75       0.026656              0.008069\n",
       "4         76       0.645947              0.221359\n",
       "...      ...            ...                   ...\n",
       "11952  20576       0.295801              0.100765\n",
       "11953  20577       0.135718              0.045631\n",
       "11954  20726       0.344032              0.117376\n",
       "11955  20727       0.163772              0.055293\n",
       "11956  20728       0.532468              0.182275\n",
       "\n",
       "[11957 rows x 3 columns]"
      ]
     },
     "execution_count": 5,
     "metadata": {},
     "output_type": "execute_result"
    }
   ],
   "source": [
    "vae.predict()"
   ]
  }
 ],
 "metadata": {
  "kernelspec": {
   "display_name": "Python 3 (ipykernel)",
   "language": "python",
   "name": "python3"
  },
  "language_info": {
   "codemirror_mode": {
    "name": "ipython",
    "version": 3
   },
   "file_extension": ".py",
   "mimetype": "text/x-python",
   "name": "python",
   "nbconvert_exporter": "python",
   "pygments_lexer": "ipython3",
   "version": "3.12.3"
  }
 },
 "nbformat": 4,
 "nbformat_minor": 2
}
