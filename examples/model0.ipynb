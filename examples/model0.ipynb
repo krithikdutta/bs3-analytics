{
 "cells": [
  {
   "cell_type": "code",
   "execution_count": 2,
   "id": "52eb383e-975f-407e-99bf-b63d168d5fb0",
   "metadata": {},
   "outputs": [],
   "source": [
    "from terrawatt.models.ols import OLSModel"
   ]
  },
  {
   "cell_type": "code",
   "execution_count": 3,
   "id": "791eeb47-7284-4624-a51d-2eafe496e780",
   "metadata": {},
   "outputs": [
    {
     "name": "stderr",
     "output_type": "stream",
     "text": [
      "2025-09-11 01:54:46,504 - INFO - OLS Model initialized\n",
      "2025-09-11 01:54:46,504 - INFO - Loading data...\n",
      "2025-09-11 01:54:46,531 - INFO - X data shape: (9120, 22), Y data shape: (9120, 8)\n",
      "2025-09-11 01:54:46,535 - INFO - Merged data shape: (9120, 15)\n",
      "2025-09-11 01:54:46,536 - INFO - Target variable statistics: mean=0.003, std=0.059\n",
      "2025-09-11 01:54:46,537 - INFO - Creating features...\n",
      "2025-09-11 01:54:46,539 - INFO - Filled 0 NaNs in 'ndbi_mean' using median.\n",
      "2025-09-11 01:54:46,540 - INFO - Filled 0 NaNs in 'ghi_mean' using median.\n",
      "2025-09-11 01:54:46,541 - INFO - Final feature matrix shape: (9120, 5)\n",
      "2025-09-11 01:54:46,541 - INFO - Creating 5 spatial folds using KMeans clustering...\n",
      "2025-09-11 01:54:46,563 - INFO - Fold sizes: [1704 1840 1846 2055 1675]\n",
      "2025-09-11 01:54:46,565 - INFO - Training OLS model using statsmodels...\n",
      "2025-09-11 01:54:46,566 - INFO - Processing fold 1/5...\n",
      "2025-09-11 01:54:46,569 - INFO -   Fold 1 R²: -0.0048\n",
      "2025-09-11 01:54:46,608 - INFO - Processing fold 2/5...\n",
      "2025-09-11 01:54:46,611 - INFO -   Fold 2 R²: -0.0001\n",
      "2025-09-11 01:54:46,654 - INFO - Processing fold 3/5...\n",
      "2025-09-11 01:54:46,657 - INFO -   Fold 3 R²: -0.0254\n",
      "2025-09-11 01:54:46,697 - INFO - Processing fold 4/5...\n",
      "2025-09-11 01:54:46,699 - INFO -   Fold 4 R²: 0.0063\n",
      "2025-09-11 01:54:46,747 - INFO - Processing fold 5/5...\n",
      "2025-09-11 01:54:46,749 - INFO -   Fold 5 R²: 0.0110\n",
      "2025-09-11 01:54:46,788 - INFO - Cross-validation R² scores: [-0.004842472203126169, -5.744753223790866e-05, -0.025412597602466613, 0.006339923275253456, 0.011017673933161998]\n",
      "2025-09-11 01:54:46,788 - INFO - Mean CV R² score: -0.0026 (±0.0126)\n",
      "2025-09-11 01:54:46,790 - INFO - Model training complete.\n",
      "2025-09-11 01:54:46,795 - INFO - \n",
      "Model Summary:\n",
      "                                 OLS Regression Results                                \n",
      "=======================================================================================\n",
      "Dep. Variable:                      y   R-squared (uncentered):                   0.012\n",
      "Model:                            OLS   Adj. R-squared (uncentered):              0.012\n",
      "Method:                 Least Squares   F-statistic:                              22.63\n",
      "Date:                Thu, 11 Sep 2025   Prob (F-statistic):                    1.23e-22\n",
      "Time:                        01:54:46   Log-Likelihood:                          12891.\n",
      "No. Observations:                9120   AIC:                                 -2.577e+04\n",
      "Df Residuals:                    9115   BIC:                                 -2.574e+04\n",
      "Df Model:                           5                                                  \n",
      "Covariance Type:            nonrobust                                                  \n",
      "=====================================================================================\n",
      "                        coef    std err          t      P>|t|      [0.025      0.975]\n",
      "-------------------------------------------------------------------------------------\n",
      "ndbi_mean            -0.0022      0.003     -0.730      0.466      -0.008       0.004\n",
      "ntl_mean              0.0243      0.004      5.508      0.000       0.016       0.033\n",
      "ghi_mean             -0.0009      0.003     -0.279      0.781      -0.007       0.005\n",
      "road_density_norm     0.0049      0.010      0.476      0.634      -0.015       0.025\n",
      "poi_norm              0.0675      0.018      3.844      0.000       0.033       0.102\n",
      "==============================================================================\n",
      "Omnibus:                    19288.880   Durbin-Watson:                   1.961\n",
      "Prob(Omnibus):                  0.000   Jarque-Bera (JB):         56159713.051\n",
      "Skew:                          18.693   Prob(JB):                         0.00\n",
      "Kurtosis:                     385.611   Cond. No.                         25.4\n",
      "==============================================================================\n",
      "\n",
      "Notes:\n",
      "[1] R² is computed without centering (uncentered) since the model does not contain a constant.\n",
      "[2] Standard Errors assume that the covariance matrix of the errors is correctly specified.\n",
      "2025-09-11 01:54:46,799 - INFO - \n",
      "Model Coefficients:\n",
      "                             Feature  Coefficient  Std_Error   t_value  \\\n",
      "ndbi_mean                  ndbi_mean    -0.002196   0.003010 -0.729649   \n",
      "ntl_mean                    ntl_mean     0.024259   0.004405  5.507638   \n",
      "ghi_mean                    ghi_mean    -0.000866   0.003106 -0.278640   \n",
      "road_density_norm  road_density_norm     0.004864   0.010209  0.476417   \n",
      "poi_norm                    poi_norm     0.067456   0.017548  3.844106   \n",
      "\n",
      "                        P_value  CI_Lower  CI_Upper  Significant Significance  \n",
      "ndbi_mean          4.656232e-01 -0.008096  0.003704        False               \n",
      "ntl_mean           3.735661e-08  0.015625  0.032892         True          ***  \n",
      "ghi_mean           7.805274e-01 -0.006955  0.005224        False               \n",
      "road_density_norm  6.337886e-01 -0.015149  0.024877        False               \n",
      "poi_norm           1.218152e-04  0.033058  0.101854         True          ***  \n",
      "2025-09-11 01:54:46,800 - WARNING - Error in diagnostic tests: White's heteroskedasticity test requires exog to have at least two columns where one is a constant.\n"
     ]
    },
    {
     "data": {
      "text/plain": [
       "True"
      ]
     },
     "execution_count": 3,
     "metadata": {},
     "output_type": "execute_result"
    }
   ],
   "source": [
    "olsmodel = OLSModel(config_path='terrawatt/configs/ols.yaml')\n",
    "olsmodel.run_model()"
   ]
  }
 ],
 "metadata": {
  "kernelspec": {
   "display_name": "Python 3 (ipykernel)",
   "language": "python",
   "name": "python3"
  },
  "language_info": {
   "codemirror_mode": {
    "name": "ipython",
    "version": 3
   },
   "file_extension": ".py",
   "mimetype": "text/x-python",
   "name": "python",
   "nbconvert_exporter": "python",
   "pygments_lexer": "ipython3",
   "version": "3.12.3"
  }
 },
 "nbformat": 4,
 "nbformat_minor": 5
}
