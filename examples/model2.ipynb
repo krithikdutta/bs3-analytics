{
 "cells": [
  {
   "cell_type": "code",
   "execution_count": 2,
   "metadata": {},
   "outputs": [],
   "source": [
    "from terrawatt.models.logit import LogitModel"
   ]
  },
  {
   "cell_type": "code",
   "execution_count": 3,
   "metadata": {},
   "outputs": [
    {
     "name": "stderr",
     "output_type": "stream",
     "text": [
      "2025-09-14 16:19:59,477 - INFO - Logit Model initialized\n",
      "2025-09-14 16:19:59,479 - INFO - Loading data...\n",
      "2025-09-14 16:19:59,513 - INFO - X data shape: (9120, 22), Y data shape: (9120, 8)\n",
      "2025-09-14 16:19:59,520 - INFO - Merged data shape: (9120, 15)\n",
      "2025-09-14 16:19:59,521 - INFO - Binary target distribution (0s, 1s): [9091   29]\n",
      "2025-09-14 16:19:59,521 - INFO - Building spatial weights matrix...\n",
      "2025-09-14 16:20:00,111 - INFO - Spatial weights created (queen): 9120 obs, 9120.00 total weights\n",
      "2025-09-14 16:20:00,112 - INFO - Creating features...\n",
      "2025-09-14 16:20:00,115 - INFO - Filled 0 NaNs in 'ndbi_mean' using median.\n",
      "2025-09-14 16:20:00,116 - INFO - Filled 0 NaNs in 'ghi_mean' using median.\n",
      "2025-09-14 16:20:00,117 - INFO - Final feature matrix shape: (9120, 5)\n",
      "2025-09-14 16:20:00,119 - INFO - Creating 5 spatial folds using KMeans clustering...\n",
      "2025-09-14 16:20:00,146 - INFO - Fold sizes: [1704 1840 1846 2055 1675]\n",
      "2025-09-14 16:20:00,149 - INFO - Training Logit model using statsmodels...\n",
      "2025-09-14 16:20:00,149 - INFO - Processing fold 1/5...\n",
      "2025-09-14 16:20:00,174 - INFO -   Fold 1 LogLoss: 0.0045 Accuracy: 0.9994\n",
      "2025-09-14 16:20:00,217 - INFO - Processing fold 2/5...\n",
      "2025-09-14 16:20:00,229 - INFO -   Fold 2 LogLoss: 0.0079 Accuracy: 0.9989\n",
      "2025-09-14 16:20:00,273 - INFO - Processing fold 3/5...\n",
      "2025-09-14 16:20:00,285 - INFO -   Fold 3 LogLoss: 0.0139 Accuracy: 0.9984\n",
      "2025-09-14 16:20:00,333 - INFO - Processing fold 4/5...\n",
      "2025-09-14 16:20:00,345 - INFO -   Fold 4 LogLoss: 0.0402 Accuracy: 0.9927\n",
      "2025-09-14 16:20:00,395 - INFO - Processing fold 5/5...\n",
      "2025-09-14 16:20:00,407 - INFO -   Fold 5 LogLoss: 0.0282 Accuracy: 0.9946\n",
      "2025-09-14 16:20:00,451 - INFO - Cross-validation scores: [{'Accuracy': 0.9994131455399061, 'LogLoss': 0.0045172561874548085}, {'Accuracy': 0.9989130434782608, 'LogLoss': 0.007880537489775961}, {'Accuracy': 0.9983748645720477, 'LogLoss': 0.013905471467147178}, {'Accuracy': 0.9927007299270073, 'LogLoss': 0.04023313160729301}, {'Accuracy': 0.9946268656716418, 'LogLoss': 0.028176186027022633}]\n",
      "2025-09-14 16:20:00,463 - INFO - Model training complete.\n",
      "2025-09-14 16:20:00,468 - INFO - \n",
      "Model Summary:\n",
      "                 Generalized Linear Model Regression Results                  \n",
      "==============================================================================\n",
      "Dep. Variable:                      y   No. Observations:                 9120\n",
      "Model:                            GLM   Df Residuals:                     9114\n",
      "Model Family:                Binomial   Df Model:                            5\n",
      "Link Function:                  Logit   Scale:                          1.0000\n",
      "Method:                          IRLS   Log-Likelihood:                -163.96\n",
      "Date:                Sun, 14 Sep 2025   Deviance:                       327.93\n",
      "Time:                        16:20:00   Pearson chi2:                 4.75e+03\n",
      "No. Iterations:                    10   Pseudo R-squ. (CS):           0.006942\n",
      "Covariance Type:            nonrobust                                         \n",
      "=====================================================================================\n",
      "                        coef    std err          z      P>|z|      [0.025      0.975]\n",
      "-------------------------------------------------------------------------------------\n",
      "const                -7.8011      1.573     -4.959      0.000     -10.884      -4.718\n",
      "ndbi_mean            -1.2459      2.418     -0.515      0.606      -5.986       3.494\n",
      "ntl_mean              7.1467      1.229      5.814      0.000       4.738       9.556\n",
      "ghi_mean              0.5234      1.104      0.474      0.636      -1.641       2.688\n",
      "road_density_norm     1.8217      2.017      0.903      0.366      -2.131       5.775\n",
      "poi_norm              4.1896      1.537      2.726      0.006       1.177       7.202\n",
      "=====================================================================================\n",
      "2025-09-14 16:20:00,472 - INFO - Model coefficients saved to out_logit/model_coefficients.csv\n",
      "2025-09-14 16:20:00,497 - INFO - Predictions saved to out_logit/predictions.csv\n",
      "2025-09-14 16:20:00,498 - INFO - Performing diagnostic tests...\n",
      "2025-09-14 16:20:01,898 - INFO - Observed Moran's I: 0.0019637526091578535\n",
      "2025-09-14 16:20:01,899 - INFO - Expected I under null: -0.0001096611470555982\n",
      "2025-09-14 16:20:01,899 - INFO - p-value: 0.1973\n",
      "2025-09-14 16:20:01,899 - INFO - Result: No significant spatial autocorrelation (Fail to reject H0).\n",
      "2025-09-14 16:20:02,264 - INFO - Moran's I distribution plot saved to out_logit/diagnostic_plots/moran_distribution.png\n",
      "2025-09-14 16:20:02,271 - INFO - Classification report saved to out_logit/evaluation_report.csv\n"
     ]
    },
    {
     "data": {
      "text/plain": [
       "True"
      ]
     },
     "execution_count": 3,
     "metadata": {},
     "output_type": "execute_result"
    }
   ],
   "source": [
    "logit = LogitModel(config_path='terrawatt/configs/logit.yaml')\n",
    "logit.run_model()"
   ]
  }
 ],
 "metadata": {
  "kernelspec": {
   "display_name": "Python 3 (ipykernel)",
   "language": "python",
   "name": "python3"
  }
 },
 "nbformat": 4,
 "nbformat_minor": 2
}
