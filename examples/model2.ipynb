{
 "cells": [
  {
   "cell_type": "code",
   "execution_count": 1,
   "metadata": {},
   "outputs": [],
   "source": [
    "from terrawatt.models.logit import LogitModel"
   ]
  },
  {
   "cell_type": "code",
   "execution_count": 2,
   "metadata": {},
   "outputs": [
    {
     "name": "stderr",
     "output_type": "stream",
     "text": [
      "2025-09-16 10:16:31 - terrawatt.models.terrawatt.LogitModel - INFO - --- Logging initialized ---\n",
      "2025-09-16 10:16:31 - terrawatt.models.terrawatt.LogitModel - INFO - Model: Logit_v1 initialized\n",
      "2025-09-16 10:16:31 - terrawatt.models.terrawatt.LogitModel - INFO - Loading data from X: data/BLR_X_normalized.csv, y: data/BLR_Y.csv\n",
      "2025-09-16 10:16:31 - terrawatt.models.terrawatt.LogitModel - INFO - Loaded X: (9120, 25), Y: (9120, 8)\n",
      "2025-09-16 10:16:31 - terrawatt.models.terrawatt.LogitModel - INFO - Merged dataset shape: (9120, 15)\n",
      "2025-09-16 10:16:31 - terrawatt.models.terrawatt.LogitModel - INFO - Creating features...\n",
      "2025-09-16 10:16:31 - terrawatt.models.terrawatt.LogitModel - INFO - Binary target distribution - 0s: 9091, 1s: 29\n",
      "2025-09-16 10:16:31 - terrawatt.models.terrawatt.LogitModel - WARNING - Severe class imbalance detected. Minority class ratio: 0.003\n",
      "2025-09-16 10:16:31 - terrawatt.models.terrawatt.LogitModel - INFO - Building spatial weights matrix...\n",
      "2025-09-16 10:16:31 - terrawatt.models.terrawatt.LogitModel - INFO - Creating spatial weights using 'queen' contiguity...\n",
      "2025-09-16 10:16:32 - terrawatt.models.terrawatt.LogitModel - INFO - Creating feature matrix...\n",
      "2025-09-16 10:16:32 - terrawatt.models.terrawatt.LogitModel - INFO - Applying imputation using method: median\n",
      "2025-09-16 10:16:32 - terrawatt.models.terrawatt.LogitModel - INFO - Imputing 6 missing values in column 'ndbi_mean'\n",
      "2025-09-16 10:16:32 - terrawatt.models.terrawatt.LogitModel - INFO - Imputing 43 missing values in column 'ghi_mean'\n",
      "2025-09-16 10:16:32 - terrawatt.models.terrawatt.LogitModel - INFO - No spatial lagging applied as lag_order < 1\n",
      "2025-09-16 10:16:32 - terrawatt.models.terrawatt.LogitModel - INFO - Final feature matrix shape: (9120, 5)\n",
      "2025-09-16 10:16:32 - terrawatt.models.terrawatt.LogitModel - INFO - Feature columns: ['ndbi_mean', 'ntl_mean', 'ghi_mean', 'road_density_norm', 'poi_norm']\n",
      "2025-09-16 10:16:32 - terrawatt.models.terrawatt.LogitModel - INFO - Creating 5 spatial folds using KMeans clustering...\n",
      "2025-09-16 10:16:32 - terrawatt.models.terrawatt.LogitModel - INFO - Fold sizes: [1704 1840 1846 2055 1675]\n",
      "2025-09-16 10:16:32 - terrawatt.models.terrawatt.LogitModel - INFO - Training Logit model using statsmodels...\n",
      "2025-09-16 10:16:32 - terrawatt.models.terrawatt.LogitModel - INFO - Processing fold 1/5...\n",
      "2025-09-16 10:16:32 - terrawatt.models.terrawatt.LogitModel - INFO -   Fold 1 LogLoss: 0.0049 Accuracy: 0.9994\n",
      "2025-09-16 10:16:32 - terrawatt.models.terrawatt.LogitModel - INFO - Processing fold 2/5...\n",
      "2025-09-16 10:16:32 - terrawatt.models.terrawatt.LogitModel - INFO -   Fold 2 LogLoss: 0.0080 Accuracy: 0.9989\n",
      "2025-09-16 10:16:32 - terrawatt.models.terrawatt.LogitModel - INFO - Processing fold 3/5...\n",
      "2025-09-16 10:16:32 - terrawatt.models.terrawatt.LogitModel - INFO -   Fold 3 LogLoss: 0.0139 Accuracy: 0.9984\n",
      "2025-09-16 10:16:32 - terrawatt.models.terrawatt.LogitModel - INFO - Processing fold 4/5...\n",
      "2025-09-16 10:16:32 - terrawatt.models.terrawatt.LogitModel - INFO -   Fold 4 LogLoss: 0.0394 Accuracy: 0.9927\n",
      "2025-09-16 10:16:32 - terrawatt.models.terrawatt.LogitModel - INFO - Processing fold 5/5...\n",
      "2025-09-16 10:16:32 - terrawatt.models.terrawatt.LogitModel - INFO -   Fold 5 LogLoss: 0.0281 Accuracy: 0.9946\n",
      "2025-09-16 10:16:32 - terrawatt.models.terrawatt.LogitModel - INFO - Cross-validation scores: [{'Accuracy': 0.9994131455399061, 'LogLoss': 0.0048645136546201775}, {'Accuracy': 0.9989130434782608, 'LogLoss': 0.007953174738239099}, {'Accuracy': 0.9983748645720477, 'LogLoss': 0.013939897549001452}, {'Accuracy': 0.9927007299270073, 'LogLoss': 0.039390335865828525}, {'Accuracy': 0.9946268656716418, 'LogLoss': 0.02810655097282345}]\n",
      "2025-09-16 10:16:32 - terrawatt.models.terrawatt.LogitModel - INFO - Model training complete.\n",
      "2025-09-16 10:16:32 - terrawatt.models.terrawatt.LogitModel - INFO - \n",
      "Model Summary:\n",
      "                 Generalized Linear Model Regression Results                  \n",
      "==============================================================================\n",
      "Dep. Variable:                      y   No. Observations:                 9120\n",
      "Model:                            GLM   Df Residuals:                     9114\n",
      "Model Family:                Binomial   Df Model:                            5\n",
      "Link Function:                  Logit   Scale:                          1.0000\n",
      "Method:                          IRLS   Log-Likelihood:                -163.84\n",
      "Date:                Tue, 16 Sep 2025   Deviance:                       327.67\n",
      "Time:                        10:16:32   Pearson chi2:                 4.74e+03\n",
      "No. Iterations:                    10   Pseudo R-squ. (CS):           0.006970\n",
      "Covariance Type:            nonrobust                                         \n",
      "=====================================================================================\n",
      "                        coef    std err          z      P>|z|      [0.025      0.975]\n",
      "-------------------------------------------------------------------------------------\n",
      "const                -7.9205      1.596     -4.962      0.000     -11.049      -4.792\n",
      "ndbi_mean            -1.4127      2.389     -0.591      0.554      -6.095       3.270\n",
      "ntl_mean              7.0295      1.292      5.441      0.000       4.497       9.562\n",
      "ghi_mean              0.7787      1.123      0.693      0.488      -1.423       2.980\n",
      "road_density_norm     2.3351      2.217      1.053      0.292      -2.010       6.681\n",
      "poi_norm              3.9713      1.553      2.558      0.011       0.928       7.014\n",
      "=====================================================================================\n",
      "2025-09-16 10:16:32 - terrawatt.models.terrawatt.LogitModel - INFO - Model coefficients saved to out/model_coefficients.csv\n",
      "2025-09-16 10:16:32 - terrawatt.models.terrawatt.LogitModel - INFO - Predictions saved to out/predictions.csv\n",
      "2025-09-16 10:16:32 - terrawatt.models.terrawatt.LogitModel - INFO - Performing diagnostic tests...\n",
      "2025-09-16 10:16:33 - terrawatt.models.terrawatt.LogitModel - INFO - Observed Moran's I: 0.0014816201986050728\n",
      "2025-09-16 10:16:33 - terrawatt.models.terrawatt.LogitModel - INFO - Expected I under null: -0.0001096611470555982\n",
      "2025-09-16 10:16:33 - terrawatt.models.terrawatt.LogitModel - INFO - p-value: 0.2252\n",
      "2025-09-16 10:16:33 - terrawatt.models.terrawatt.LogitModel - INFO - Result: No significant spatial autocorrelation (Fail to reject H0).\n",
      "2025-09-16 10:16:34 - terrawatt.models.terrawatt.LogitModel - INFO - Moran's I distribution plot saved to out/diagnostic_plots/moran_distribution.png\n",
      "2025-09-16 10:16:34 - terrawatt.models.terrawatt.LogitModel - INFO - Classification report saved to out/evaluation_report.csv\n"
     ]
    },
    {
     "data": {
      "text/plain": [
       "{'moran_cv': {'I': np.float64(0.0014816201986050728),\n",
       "  'EI': -0.0001096611470555982,\n",
       "  'p_value': np.float64(0.2252),\n",
       "  'z_score': np.float64(0.27382651554201365)},\n",
       " 'classification_report': {'0': {'precision': 0.9968198267353876,\n",
       "   'recall': 0.999890001099989,\n",
       "   'f1-score': 0.9983525535420099,\n",
       "   'support': 9091.0},\n",
       "  '1': {'precision': 0.0, 'recall': 0.0, 'f1-score': 0.0, 'support': 29.0},\n",
       "  'accuracy': 0.9967105263157895,\n",
       "  'macro avg': {'precision': 0.4984099133676938,\n",
       "   'recall': 0.4999450005499945,\n",
       "   'f1-score': 0.49917627677100496,\n",
       "   'support': 9120.0},\n",
       "  'weighted avg': {'precision': 0.9936501145670404,\n",
       "   'recall': 0.9967105263157895,\n",
       "   'f1-score': 0.9951779675713172,\n",
       "   'support': 9120.0}}}"
      ]
     },
     "execution_count": 2,
     "metadata": {},
     "output_type": "execute_result"
    }
   ],
   "source": [
    "logit = LogitModel(config_path='terrawatt/configs/logit.yaml')\n",
    "logit.run()"
   ]
  }
 ],
 "metadata": {
  "kernelspec": {
   "display_name": "Python 3 (ipykernel)",
   "language": "python",
   "name": "python3"
  },
  "language_info": {
   "codemirror_mode": {
    "name": "ipython",
    "version": 3
   },
   "file_extension": ".py",
   "mimetype": "text/x-python",
   "name": "python",
   "nbconvert_exporter": "python",
   "pygments_lexer": "ipython3",
   "version": "3.12.3"
  }
 },
 "nbformat": 4,
 "nbformat_minor": 2
}
